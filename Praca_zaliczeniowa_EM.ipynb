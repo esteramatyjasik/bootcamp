{
 "cells": [
  {
   "cell_type": "markdown",
   "metadata": {},
   "source": [
    "# Praca zaliczeniowa z Bootcampu Data Science\n",
    "### Celem projektu jest pórownanie klasyfikatorów zastosowanych do modelu predykcji oceny zdolnosci kredytowej.\n",
    "\n",
    "![zdjęcie](https://www.hiponet.pl/file/get/hash/d8cf28/size/big/sid/513)\n",
    "\n",
    "\n",
    "\n",
    "\n",
    "\n",
    "## Opis danych: https://archive.ics.uci.edu/ml/datasets/statlog+(german+credit+data)\n",
    "\n",
    "## Źródło danych: http://archive.ics.uci.edu/ml/machine-learning-databases/statlog/german/german.data\n",
    "\n",
    "![zdjęcie](https://archive.ics.uci.edu/ml/assets/logo.gif)\n",
    "\n",
    "## Informacje o zmiennych:\n",
    "\n",
    "1. (Zmienna jakościowa) Status istniejącego konta rozliczeniowego\n",
    "    * A11 : ... < 0 DM\n",
    "    * A12 : 0 <= ... < 200 DM\n",
    "    * A13 : ... >= 200 DM / Otrzymywane wynagrodzenie w conajmniej ostatnim roku\n",
    "    * A14 : Brak konta (no checking account)\n",
    "\n",
    "\n",
    "2. (Zmienna numeryczna) Czas trwania kredytu w miesiącach\n",
    "\n",
    "3. (Zmienna jakościowa) Historia kredytowa\n",
    "    * A30 : brak zaciągniętych kredytów / wszystkie kredyty spłacone (credits taken/all credits paid back duly)\n",
    "    * A31 : wszystkie kredyty w tym banku spłacone (all credits at this bank paid back duly)\n",
    "    * A32 : dotychczasowe kredyty należycie spłacane (existing credits paid back duly till now)\n",
    "    * A33 : opóźnienie w spłacie w przeszłości (delay in paying off in the past)\n",
    "    * A34 : kluczowe konto/inne kredyty poza bankiem (critical account/other credits existing (not at this bank))\n",
    "    \n",
    "\n",
    "4. (Zmienna jakościowa) Cel\n",
    "     * A40: samochód (nowy)\n",
    "     * A41: samochód (używany)\n",
    "     * A42: meble / wyposażenie\n",
    "     * A43: radio / telewizja\n",
    "     * A44: sprzęt gospodarstwa domowego\n",
    "     * A45: naprawy\n",
    "     * A46: edukacja\n",
    "     * A47: wakacje\n",
    "     * A48: przekwalifikowanie\n",
    "     * A49: biznes\n",
    "     * A410: inne\n",
    "     \n",
    "     \n",
    "5. (Zmienna numeryczna) Kwota kredytu\n",
    "\n",
    "\n",
    "6. (Zmienn jakościowa) Rachunek oszczędnościowy / obligacje\n",
    "     * A61: ... <100 DM\n",
    "     * A62: 100 <= ... <500 DM\n",
    "     * A63: 500 <= ... <1000 DM\n",
    "     * A64: ..> = 1000 DM\n",
    "     * A65: nieznany / brak konta oszczędnościowego (nieznane / brak konta oszczędnościowego)\n",
    "    \n",
    "\n",
    "7. (Zmienna jakościowa) Obecne zatrudnienie od\n",
    "     * A71: bezrobotny\n",
    "     * A72: ... <1 rok\n",
    "     * A73: 1 <= ... <4 lata\n",
    "     * A74: 4 <= ... <7 lat\n",
    "     * A75: ..> = 7 lat\n",
    "    \n",
    "    \n",
    "8. (Zmienna numeryczna) Stopa raty jako procent dochodu do dyspozycji\n",
    "\n",
    "\n",
    "9. (Zmienna jakościowa) Status osobisty i płeć\n",
    "     * A91: mężczyzna: rozwiedziony / w separacji\n",
    "     * A92: kobieta: rozwiedziona / w separacji / w związku małżeńskim\n",
    "     * A93: mężczyzna: wolny\n",
    "     * A94: mężczyzna: żonaty / owdowiały\n",
    "     * A95: kobieta: singiel\n",
    "    \n",
    "    \n",
    "10. (Zmienna jakościowa) Inni dłużnicy / poręczyciele\n",
    "     * A101: brak\n",
    "     * A102: współwnioskodawca\n",
    "     * A103: poręczyciel\n",
    "    \n",
    "    \n",
    "11. (Zmienna numeryczna) Obecne miejsce zamieszkania od\n",
    "\n",
    "12. (Zmienna jakościowa) Nieruchomość A121: nieruchomość\n",
    "     * A122: jeśli nie A121: umowa oszczędnościowa dla towarzystwa budowlanego / ubezpieczenie na życie\n",
    "     * A123: jeśli nie A121 / A122: samochód lub inny, nie w atrybucie 6\n",
    "     * A124: nieznana / brak właściwości\n",
    "    \n",
    "    \n",
    "13. (Zmienna numeryczna) Wiek w latach\n",
    "\n",
    "\n",
    "14. (Zmienna jakościowa) Inne plany ratalne\n",
    "     * A141: bank\n",
    "     * A142: sklepy\n",
    "     * A143: brak\n",
    "     \n",
    "    \n",
    "15. (Zmienna jakościowa) Mieszkanie\n",
    "     * A151: wynajem\n",
    "     * A152: własne\n",
    "     * A153: bez kosztów\n",
    "\n",
    "\n",
    "16. (Zmienna numeryczna) Liczba kredytów w tym banku\n",
    "\n",
    "\n",
    "17. (Zmienna jakościowa) Praca\n",
    "     * A171: bezrobotni / niewykwalifikowani - nierezydenci\n",
    "     * A172: niewykwalifikowany - rezydent\n",
    "     * A173: wykwalifikowany pracownik / urzędnik\n",
    "     * A174: kierownictwo / samozatrudniony / wysoko wykwalifikowany pracownik / oficer\n",
    "    \n",
    "    \n",
    "18. (Zmienna numeryczna) Liczba osób na utrzymaniu\n",
    "\n",
    "19. (Zmienna jakościowa) Telefon\n",
    "     * A191: brak\n",
    "     * A192: tak, zarejestrowany pod nazwą klienta\n",
    "     \n",
    "     \n",
    "20. (Zmienna jakościowa) Pracownik obcokrajowy\n",
    "    * A201 : tak\n",
    "    * A202 : nie\n",
    "\n",
    "\n",
    "## Zmienna Celu - ryzyko kredytowe\n",
    "\n",
    "\n",
    "Macierz kosztów (Cost Matrix)\n",
    "    * 1 = Dobre ryzyko (Good Risk)\n",
    "    * 2 = Złe ryzyko (Bad Risk)"
   ]
  },
  {
   "cell_type": "markdown",
   "metadata": {},
   "source": [
    "### Zaczytuje potrzebne pakiety, w przypadku gdy ktorys z nich nie działa, należy je zainstalować w konsoli"
   ]
  },
  {
   "cell_type": "code",
   "execution_count": 1,
   "metadata": {},
   "outputs": [],
   "source": [
    "import matplotlib.pyplot as plt\n",
    "import numpy as np\n",
    "import pandas as pd\n",
    "import re\n",
    "import scikitplot as skplt\n",
    "import seaborn as sns\n",
    "import statsmodels.api as sm\n",
    "import time\n",
    "import warnings\n",
    "from IPython.display import display, HTML\n",
    "from collections import Counter\n",
    "from math import floor, ceil\n",
    "from numpy import int64, mean, std\n",
    "from pandas import read_csv\n",
    "from scipy import stats\n",
    "from sklearn import metrics\n",
    "from sklearn.compose import ColumnTransformer\n",
    "from sklearn.decomposition import PCA\n",
    "from sklearn.discriminant_analysis import LinearDiscriminantAnalysis\n",
    "from sklearn.dummy import DummyClassifier\n",
    "from sklearn.ensemble import (\n",
    "    AdaBoostClassifier, \n",
    "    BaggingClassifier, \n",
    "    ExtraTreesClassifier, \n",
    "    GradientBoostingClassifier, \n",
    "    RandomForestClassifier, \n",
    "    RandomForestRegressor\n",
    ")\n",
    "from sklearn.feature_selection import SelectKBest\n",
    "from sklearn.impute import SimpleImputer\n",
    "from sklearn.linear_model import BayesianRidge, Lasso, LinearRegression, LogisticRegression, Ridge\n",
    "from sklearn.metrics import (\n",
    "    accuracy_score, confusion_matrix, roc_curve, fbeta_score, make_scorer, r2_score, mean_squared_error\n",
    ")\n",
    "from sklearn.model_selection import (\n",
    "    GridSearchCV, \n",
    "    KFold, \n",
    "    RepeatedStratifiedKFold, \n",
    "    StratifiedKFold, \n",
    "    train_test_split, \n",
    "    cross_val_score, \n",
    "    RandomizedSearchCV\n",
    ")\n",
    "from sklearn.naive_bayes import GaussianNB\n",
    "from sklearn.neighbors import KNeighborsClassifier, KNeighborsRegressor\n",
    "from sklearn.neural_network import MLPRegressor\n",
    "from sklearn.pipeline import FeatureUnion, make_pipeline, make_union, Pipeline\n",
    "from sklearn.preprocessing import LabelEncoder, OneHotEncoder, StandardScaler, scale\n",
    "from sklearn.svm import LinearSVC, SVC, SVR\n",
    "from sklearn.tree import DecisionTreeClassifier, DecisionTreeRegressor\n",
    "from sklearn.utils import resample\n",
    "from statsmodels.stats.diagnostic import lilliefors\n",
    "from xgboost import XGBClassifier, XGBRegressor\n",
    "#warnings.filterwarnings('ignore')"
   ]
  },
  {
   "cell_type": "markdown",
   "metadata": {},
   "source": [
    "### Wczytuje zmienne z lokalizacji http://archive.ics.uci.edu/ml/machine-learning-databases/statlog/german/german.data , dodaje opisy danych"
   ]
  },
  {
   "cell_type": "code",
   "execution_count": 2,
   "metadata": {},
   "outputs": [],
   "source": [
    "column_names = [\n",
    "    \"Status of existing checking account\",\n",
    "    \"Duration in month\",\n",
    "    \"Credit history\",\n",
    "    \"Purpose\",\n",
    "    \"Credit amount\",\n",
    "    \"Savings account/bonds\",\n",
    "    \"Present employment since\",\n",
    "    \"Installment rate in percentage of disposable income\",\n",
    "    \"Personal status and sex\",\n",
    "    \"Other debtors / guarantors\",\n",
    "    \"Present residence since\",\n",
    "    \"Property\",\n",
    "    \"Age in years\",\n",
    "    \"Other installment plans\",\n",
    "    \"Housing\",\n",
    "    \"Number of existing credits at this bank\",\n",
    "    \"Job\",\n",
    "    \"Number of people being liable to provide maintenance for\",\n",
    "    \"Telephone\",\n",
    "    \"foreign worker\",\n",
    "    \"Cost Matrix(Risk)\",\n",
    "]\n",
    "\n",
    "df = pd.read_csv(\n",
    "    \"http://archive.ics.uci.edu/ml/machine-learning-databases/statlog/german/german.data\",\n",
    "    sep=\" \",\n",
    "    names=column_names,\n",
    "    header=None,\n",
    ")\n",
    "\n",
    "df.to_csv(\"german_data_credit_cat.csv\", index=False)  # Zapisuje jako plik CSV\n",
    "\n",
    "df[\"Status of existing checking account\"] = df[\"Status of existing checking account\"].map(\n",
    "    {\"A14\": \"no checking account\", \"A11\": \"<0 DM\", \"A12\": \"0 <= <200 DM\", \"A13\": \">= 200 DM \"}\n",
    ")\n",
    "\n",
    "df[\"Credit history\"] = df[\"Credit history\"].map(\n",
    "    {\n",
    "        \"A34\": \"critical account\",\n",
    "        \"A33\": \"delay in paying off\",\n",
    "        \"A32\": \"existing credits paid back duly till now\",\n",
    "        \"A31\": \"all credits at this bank paid back duly\",\n",
    "        \"A30\": \"no credits taken\",\n",
    "    }\n",
    ")\n",
    "df[\"Purpose\"] = df[\"Purpose\"].map(\n",
    "    {\n",
    "        \"A40\": \"car (new)\",\n",
    "        \"A41\": \"car (used)\",\n",
    "        \"A42\": \"furniture/equipment\",\n",
    "        \"A43\": \"radio/television\",\n",
    "        \"A44\": \"domestic appliances\",\n",
    "        \"A45\": \"repairs\",\n",
    "        \"A46\": \"education\",\n",
    "        \"A47\": \"vacation\",\n",
    "        \"A48\": \"retraining\",\n",
    "        \"A49\": \"business\",\n",
    "        \"A410\": \"others\",\n",
    "    }\n",
    ")\n",
    "\n",
    "df[\"Savings account/bonds\"] = df[\"Savings account/bonds\"].map(\n",
    "    {\n",
    "        \"A65\": \"no savings account\",\n",
    "        \"A61\": \"<100 DM\",\n",
    "        \"A62\": \"100 <= <500 DM\",\n",
    "        \"A63\": \"500 <= < 1000 DM\",\n",
    "        \"A64\": \">= 1000 DM\",\n",
    "    }\n",
    ")\n",
    "\n",
    "df[\"Present employment since\"] = df[\"Present employment since\"].map(\n",
    "    {\n",
    "        \"A75\": \">=7 years\",\n",
    "        \"A74\": \"4<= <7 years\",\n",
    "        \"A73\": \"1<= < 4 years\",\n",
    "        \"A72\": \"<1 years\",\n",
    "        \"A71\": \"unemployed\",\n",
    "    }\n",
    ")\n",
    "\n",
    "df[\"Personal status and sex\"] = df[\"Personal status and sex\"].map(\n",
    "    {\n",
    "        \"A95\": \"female:single\",\n",
    "        \"A94\": \"male:married/widowed\",\n",
    "        \"A93\": \"male:single\",\n",
    "        \"A92\": \"female:divorced/separated/married\",\n",
    "        \"A91\": \"male:divorced/separated\",\n",
    "    }\n",
    ")\n",
    "\n",
    "df[\"Other debtors / guarantors\"] = df[\"Other debtors / guarantors\"].map(\n",
    "    {\"A101\": \"none\", \"A102\": \"co-applicant\", \"A103\": \"guarantor\"}\n",
    ")\n",
    "\n",
    "df[\"Property\"] = df[\"Property\"].map(\n",
    "    {\n",
    "        \"A121\": \"real estate\",\n",
    "        \"A122\": \"savings agreement/life insurance\",\n",
    "        \"A123\": \"car or other\",\n",
    "        \"A124\": \"unknown / no property\",\n",
    "    }\n",
    ")\n",
    "\n",
    "\n",
    "df[\"Other installment plans\"] = df[\"Other installment plans\"].map(\n",
    "    {\"A143\": \"none\", \"A142\": \"store\", \"A141\": \"bank\"}\n",
    ")\n",
    "\n",
    "df[\"Housing\"] = df[\"Housing\"].map({\"A153\": \"for free\", \"A152\": \"own\", \"A151\": \"rent\"})\n",
    "\n",
    "df[\"Job\"] = df[\"Job\"].map(\n",
    "    {\n",
    "        \"A174\": \"management/ highly qualified employee\",\n",
    "        \"A173\": \"skilled employee / official\",\n",
    "        \"A172\": \"unskilled - resident\",\n",
    "        \"A171\": \"unemployed/ unskilled  - non-resident\",\n",
    "    }\n",
    ")\n",
    "\n",
    "df[\"Telephone\"] = df[\"Telephone\"].map({\"A192\": \"yes\", \"A191\": \"none\"})\n",
    "df[\"foreign worker\"] = df[\"foreign worker\"].map({\"A201\": \"yes\", \"A202\": \"no\"})\n",
    "df[\"Cost Matrix(Risk)\"] = df[\"Cost Matrix(Risk)\"].map({1: \"Good Risk\", 2: \"Bad Risk\"})"
   ]
  },
  {
   "cell_type": "markdown",
   "metadata": {},
   "source": [
    "### Ilość wierszy i kolumn w tabeli przed przekształceniami na zmienne liczbowe"
   ]
  },
  {
   "cell_type": "code",
   "execution_count": 3,
   "metadata": {},
   "outputs": [
    {
     "data": {
      "text/plain": [
       "(1000, 21)"
      ]
     },
     "execution_count": 3,
     "metadata": {},
     "output_type": "execute_result"
    }
   ],
   "source": [
    "df.shape"
   ]
  },
  {
   "cell_type": "markdown",
   "metadata": {},
   "source": [
    "### Pierwsze wiersze i nagłówki kolumn"
   ]
  },
  {
   "cell_type": "code",
   "execution_count": 4,
   "metadata": {},
   "outputs": [
    {
     "data": {
      "text/html": [
       "<div>\n",
       "<style scoped>\n",
       "    .dataframe tbody tr th:only-of-type {\n",
       "        vertical-align: middle;\n",
       "    }\n",
       "\n",
       "    .dataframe tbody tr th {\n",
       "        vertical-align: top;\n",
       "    }\n",
       "\n",
       "    .dataframe thead th {\n",
       "        text-align: right;\n",
       "    }\n",
       "</style>\n",
       "<table border=\"1\" class=\"dataframe\">\n",
       "  <thead>\n",
       "    <tr style=\"text-align: right;\">\n",
       "      <th></th>\n",
       "      <th>Status of existing checking account</th>\n",
       "      <th>Duration in month</th>\n",
       "      <th>Credit history</th>\n",
       "      <th>Purpose</th>\n",
       "      <th>Credit amount</th>\n",
       "      <th>Savings account/bonds</th>\n",
       "      <th>Present employment since</th>\n",
       "      <th>Installment rate in percentage of disposable income</th>\n",
       "      <th>Personal status and sex</th>\n",
       "      <th>Other debtors / guarantors</th>\n",
       "      <th>...</th>\n",
       "      <th>Property</th>\n",
       "      <th>Age in years</th>\n",
       "      <th>Other installment plans</th>\n",
       "      <th>Housing</th>\n",
       "      <th>Number of existing credits at this bank</th>\n",
       "      <th>Job</th>\n",
       "      <th>Number of people being liable to provide maintenance for</th>\n",
       "      <th>Telephone</th>\n",
       "      <th>foreign worker</th>\n",
       "      <th>Cost Matrix(Risk)</th>\n",
       "    </tr>\n",
       "  </thead>\n",
       "  <tbody>\n",
       "    <tr>\n",
       "      <td>0</td>\n",
       "      <td>&lt;0 DM</td>\n",
       "      <td>6</td>\n",
       "      <td>critical account</td>\n",
       "      <td>radio/television</td>\n",
       "      <td>1169</td>\n",
       "      <td>no savings account</td>\n",
       "      <td>&gt;=7 years</td>\n",
       "      <td>4</td>\n",
       "      <td>male:single</td>\n",
       "      <td>none</td>\n",
       "      <td>...</td>\n",
       "      <td>real estate</td>\n",
       "      <td>67</td>\n",
       "      <td>none</td>\n",
       "      <td>own</td>\n",
       "      <td>2</td>\n",
       "      <td>skilled employee / official</td>\n",
       "      <td>1</td>\n",
       "      <td>yes</td>\n",
       "      <td>yes</td>\n",
       "      <td>Good Risk</td>\n",
       "    </tr>\n",
       "    <tr>\n",
       "      <td>1</td>\n",
       "      <td>0 &lt;= &lt;200 DM</td>\n",
       "      <td>48</td>\n",
       "      <td>existing credits paid back duly till now</td>\n",
       "      <td>radio/television</td>\n",
       "      <td>5951</td>\n",
       "      <td>&lt;100 DM</td>\n",
       "      <td>1&lt;= &lt; 4 years</td>\n",
       "      <td>2</td>\n",
       "      <td>female:divorced/separated/married</td>\n",
       "      <td>none</td>\n",
       "      <td>...</td>\n",
       "      <td>real estate</td>\n",
       "      <td>22</td>\n",
       "      <td>none</td>\n",
       "      <td>own</td>\n",
       "      <td>1</td>\n",
       "      <td>skilled employee / official</td>\n",
       "      <td>1</td>\n",
       "      <td>none</td>\n",
       "      <td>yes</td>\n",
       "      <td>Bad Risk</td>\n",
       "    </tr>\n",
       "    <tr>\n",
       "      <td>2</td>\n",
       "      <td>no checking account</td>\n",
       "      <td>12</td>\n",
       "      <td>critical account</td>\n",
       "      <td>education</td>\n",
       "      <td>2096</td>\n",
       "      <td>&lt;100 DM</td>\n",
       "      <td>4&lt;= &lt;7 years</td>\n",
       "      <td>2</td>\n",
       "      <td>male:single</td>\n",
       "      <td>none</td>\n",
       "      <td>...</td>\n",
       "      <td>real estate</td>\n",
       "      <td>49</td>\n",
       "      <td>none</td>\n",
       "      <td>own</td>\n",
       "      <td>1</td>\n",
       "      <td>unskilled - resident</td>\n",
       "      <td>2</td>\n",
       "      <td>none</td>\n",
       "      <td>yes</td>\n",
       "      <td>Good Risk</td>\n",
       "    </tr>\n",
       "    <tr>\n",
       "      <td>3</td>\n",
       "      <td>&lt;0 DM</td>\n",
       "      <td>42</td>\n",
       "      <td>existing credits paid back duly till now</td>\n",
       "      <td>furniture/equipment</td>\n",
       "      <td>7882</td>\n",
       "      <td>&lt;100 DM</td>\n",
       "      <td>4&lt;= &lt;7 years</td>\n",
       "      <td>2</td>\n",
       "      <td>male:single</td>\n",
       "      <td>guarantor</td>\n",
       "      <td>...</td>\n",
       "      <td>savings agreement/life insurance</td>\n",
       "      <td>45</td>\n",
       "      <td>none</td>\n",
       "      <td>for free</td>\n",
       "      <td>1</td>\n",
       "      <td>skilled employee / official</td>\n",
       "      <td>2</td>\n",
       "      <td>none</td>\n",
       "      <td>yes</td>\n",
       "      <td>Good Risk</td>\n",
       "    </tr>\n",
       "    <tr>\n",
       "      <td>4</td>\n",
       "      <td>&lt;0 DM</td>\n",
       "      <td>24</td>\n",
       "      <td>delay in paying off</td>\n",
       "      <td>car (new)</td>\n",
       "      <td>4870</td>\n",
       "      <td>&lt;100 DM</td>\n",
       "      <td>1&lt;= &lt; 4 years</td>\n",
       "      <td>3</td>\n",
       "      <td>male:single</td>\n",
       "      <td>none</td>\n",
       "      <td>...</td>\n",
       "      <td>unknown / no property</td>\n",
       "      <td>53</td>\n",
       "      <td>none</td>\n",
       "      <td>for free</td>\n",
       "      <td>2</td>\n",
       "      <td>skilled employee / official</td>\n",
       "      <td>2</td>\n",
       "      <td>none</td>\n",
       "      <td>yes</td>\n",
       "      <td>Bad Risk</td>\n",
       "    </tr>\n",
       "  </tbody>\n",
       "</table>\n",
       "<p>5 rows × 21 columns</p>\n",
       "</div>"
      ],
      "text/plain": [
       "  Status of existing checking account  Duration in month  \\\n",
       "0                               <0 DM                  6   \n",
       "1                        0 <= <200 DM                 48   \n",
       "2                 no checking account                 12   \n",
       "3                               <0 DM                 42   \n",
       "4                               <0 DM                 24   \n",
       "\n",
       "                             Credit history              Purpose  \\\n",
       "0                          critical account     radio/television   \n",
       "1  existing credits paid back duly till now     radio/television   \n",
       "2                          critical account            education   \n",
       "3  existing credits paid back duly till now  furniture/equipment   \n",
       "4                       delay in paying off            car (new)   \n",
       "\n",
       "   Credit amount Savings account/bonds Present employment since  \\\n",
       "0           1169    no savings account                >=7 years   \n",
       "1           5951               <100 DM            1<= < 4 years   \n",
       "2           2096               <100 DM             4<= <7 years   \n",
       "3           7882               <100 DM             4<= <7 years   \n",
       "4           4870               <100 DM            1<= < 4 years   \n",
       "\n",
       "   Installment rate in percentage of disposable income  \\\n",
       "0                                                  4     \n",
       "1                                                  2     \n",
       "2                                                  2     \n",
       "3                                                  2     \n",
       "4                                                  3     \n",
       "\n",
       "             Personal status and sex Other debtors / guarantors  ...  \\\n",
       "0                        male:single                       none  ...   \n",
       "1  female:divorced/separated/married                       none  ...   \n",
       "2                        male:single                       none  ...   \n",
       "3                        male:single                  guarantor  ...   \n",
       "4                        male:single                       none  ...   \n",
       "\n",
       "                           Property Age in years  Other installment plans  \\\n",
       "0                       real estate           67                     none   \n",
       "1                       real estate           22                     none   \n",
       "2                       real estate           49                     none   \n",
       "3  savings agreement/life insurance           45                     none   \n",
       "4             unknown / no property           53                     none   \n",
       "\n",
       "    Housing Number of existing credits at this bank  \\\n",
       "0       own                                       2   \n",
       "1       own                                       1   \n",
       "2       own                                       1   \n",
       "3  for free                                       1   \n",
       "4  for free                                       2   \n",
       "\n",
       "                           Job  \\\n",
       "0  skilled employee / official   \n",
       "1  skilled employee / official   \n",
       "2         unskilled - resident   \n",
       "3  skilled employee / official   \n",
       "4  skilled employee / official   \n",
       "\n",
       "  Number of people being liable to provide maintenance for  Telephone  \\\n",
       "0                                                  1              yes   \n",
       "1                                                  1             none   \n",
       "2                                                  2             none   \n",
       "3                                                  2             none   \n",
       "4                                                  2             none   \n",
       "\n",
       "  foreign worker Cost Matrix(Risk)  \n",
       "0            yes         Good Risk  \n",
       "1            yes          Bad Risk  \n",
       "2            yes         Good Risk  \n",
       "3            yes         Good Risk  \n",
       "4            yes          Bad Risk  \n",
       "\n",
       "[5 rows x 21 columns]"
      ]
     },
     "execution_count": 4,
     "metadata": {},
     "output_type": "execute_result"
    }
   ],
   "source": [
    "df.head(5) "
   ]
  },
  {
   "cell_type": "markdown",
   "metadata": {},
   "source": [
    "### Informacje o typie zmiennych"
   ]
  },
  {
   "cell_type": "code",
   "execution_count": 5,
   "metadata": {},
   "outputs": [
    {
     "name": "stdout",
     "output_type": "stream",
     "text": [
      "<class 'pandas.core.frame.DataFrame'>\n",
      "RangeIndex: 1000 entries, 0 to 999\n",
      "Data columns (total 21 columns):\n",
      "Status of existing checking account                         1000 non-null object\n",
      "Duration in month                                           1000 non-null int64\n",
      "Credit history                                              1000 non-null object\n",
      "Purpose                                                     1000 non-null object\n",
      "Credit amount                                               1000 non-null int64\n",
      "Savings account/bonds                                       1000 non-null object\n",
      "Present employment since                                    1000 non-null object\n",
      "Installment rate in percentage of disposable income         1000 non-null int64\n",
      "Personal status and sex                                     1000 non-null object\n",
      "Other debtors / guarantors                                  1000 non-null object\n",
      "Present residence since                                     1000 non-null int64\n",
      "Property                                                    1000 non-null object\n",
      "Age in years                                                1000 non-null int64\n",
      "Other installment plans                                     1000 non-null object\n",
      "Housing                                                     1000 non-null object\n",
      "Number of existing credits at this bank                     1000 non-null int64\n",
      "Job                                                         1000 non-null object\n",
      "Number of people being liable to provide maintenance for    1000 non-null int64\n",
      "Telephone                                                   1000 non-null object\n",
      "foreign worker                                              1000 non-null object\n",
      "Cost Matrix(Risk)                                           1000 non-null object\n",
      "dtypes: int64(7), object(14)\n",
      "memory usage: 164.2+ KB\n"
     ]
    }
   ],
   "source": [
    "df.info(null_counts=True) "
   ]
  },
  {
   "cell_type": "markdown",
   "metadata": {},
   "source": [
    " Zbiór nie zawiera braków danych."
   ]
  },
  {
   "cell_type": "markdown",
   "metadata": {},
   "source": [
    "### Zmienne liczbowe zbioru"
   ]
  },
  {
   "cell_type": "code",
   "execution_count": 6,
   "metadata": {},
   "outputs": [
    {
     "data": {
      "text/plain": [
       "Index(['Duration in month', 'Credit amount',\n",
       "       'Installment rate in percentage of disposable income',\n",
       "       'Present residence since', 'Age in years',\n",
       "       'Number of existing credits at this bank',\n",
       "       'Number of people being liable to provide maintenance for'],\n",
       "      dtype='object')"
      ]
     },
     "execution_count": 6,
     "metadata": {},
     "output_type": "execute_result"
    }
   ],
   "source": [
    "subset = df.select_dtypes(include=[np.number])\n",
    "subset.columns"
   ]
  },
  {
   "cell_type": "markdown",
   "metadata": {},
   "source": [
    "### Wykres korelacji między zmiennymi numerycznymi"
   ]
  },
  {
   "cell_type": "code",
   "execution_count": 7,
   "metadata": {},
   "outputs": [
    {
     "data": {
      "text/plain": [
       "<matplotlib.axes._subplots.AxesSubplot at 0x16c3b2c8>"
      ]
     },
     "execution_count": 7,
     "metadata": {},
     "output_type": "execute_result"
    },
    {
     "data": {
      "image/png": "[encoded data removed]",
      "text/plain": [
       "<Figure size 432x288 with 2 Axes>"
      ]
     },
     "metadata": {
      "needs_background": "light"
     },
     "output_type": "display_data"
    }
   ],
   "source": [
    "sns.heatmap(\n",
    "    subset.astype(float).corr(),\n",
    "    linewidths=0.05,\n",
    "    vmax=1.0,\n",
    "    vmin=-1,\n",
    "    square=True,\n",
    "    annot=True,\n",
    "    fmt=\".2f\",\n",
    ")"
   ]
  },
  {
   "cell_type": "markdown",
   "metadata": {},
   "source": [
    "### Histogram czasu trwania kredytu"
   ]
  },
  {
   "cell_type": "code",
   "execution_count": 8,
   "metadata": {},
   "outputs": [
    {
     "data": {
      "text/plain": [
       "<matplotlib.axes._subplots.AxesSubplot at 0x18dbfc88>"
      ]
     },
     "execution_count": 8,
     "metadata": {},
     "output_type": "execute_result"
    },
    {
     "data": {
      "image/png": "[encoded data removed]",
      "text/plain": [
       "<Figure size 432x288 with 1 Axes>"
      ]
     },
     "metadata": {
      "needs_background": "light"
     },
     "output_type": "display_data"
    }
   ],
   "source": [
    "df[\"Duration in month\"].plot(kind=\"hist\", title=\"Duration in month\")"
   ]
  },
  {
   "cell_type": "markdown",
   "metadata": {},
   "source": [
    "### Wykresy pudełkowe zależności pomiędzy ryzykiem kredytowym a kwotą kredytu, czasem trwania kredytu i wiekiem"
   ]
  },
  {
   "cell_type": "code",
   "execution_count": 9,
   "metadata": {
    "scrolled": false
   },
   "outputs": [
    {
     "data": {
      "image/png": "[encoded data removed]",
      "text/plain": [
       "<Figure size 1080x360 with 3 Axes>"
      ]
     },
     "metadata": {},
     "output_type": "display_data"
    }
   ],
   "source": [
    "sns.set()\n",
    "f, axes = plt.subplots(1, 3, figsize=(15, 5))\n",
    "for axis, variable in zip(axes, (\"Credit amount\", \"Duration in month\", \"Age in years\")):\n",
    "    sns.boxplot(y=df[variable], x=df[\"Cost Matrix(Risk)\"], orient=\"v\", ax=axis, palette=[\"#FA5882\", \"#3104B4\"])"
   ]
  },
  {
   "cell_type": "markdown",
   "metadata": {},
   "source": [
    "### Statystyki zmiennych: kwota kredytu, wiek w latach i czas trwania kredytu"
   ]
  },
  {
   "cell_type": "code",
   "execution_count": 10,
   "metadata": {},
   "outputs": [
    {
     "data": {
      "text/html": [
       "<div>\n",
       "<style scoped>\n",
       "    .dataframe tbody tr th:only-of-type {\n",
       "        vertical-align: middle;\n",
       "    }\n",
       "\n",
       "    .dataframe tbody tr th {\n",
       "        vertical-align: top;\n",
       "    }\n",
       "\n",
       "    .dataframe thead th {\n",
       "        text-align: right;\n",
       "    }\n",
       "</style>\n",
       "<table border=\"1\" class=\"dataframe\">\n",
       "  <thead>\n",
       "    <tr style=\"text-align: right;\">\n",
       "      <th></th>\n",
       "      <th>Credit amount</th>\n",
       "      <th>Age in years</th>\n",
       "      <th>Duration in month</th>\n",
       "    </tr>\n",
       "  </thead>\n",
       "  <tbody>\n",
       "    <tr>\n",
       "      <td>count</td>\n",
       "      <td>1000.000000</td>\n",
       "      <td>1000.000000</td>\n",
       "      <td>1000.000000</td>\n",
       "    </tr>\n",
       "    <tr>\n",
       "      <td>mean</td>\n",
       "      <td>3271.258000</td>\n",
       "      <td>35.546000</td>\n",
       "      <td>20.903000</td>\n",
       "    </tr>\n",
       "    <tr>\n",
       "      <td>std</td>\n",
       "      <td>2822.736876</td>\n",
       "      <td>11.375469</td>\n",
       "      <td>12.058814</td>\n",
       "    </tr>\n",
       "    <tr>\n",
       "      <td>min</td>\n",
       "      <td>250.000000</td>\n",
       "      <td>19.000000</td>\n",
       "      <td>4.000000</td>\n",
       "    </tr>\n",
       "    <tr>\n",
       "      <td>25%</td>\n",
       "      <td>1365.500000</td>\n",
       "      <td>27.000000</td>\n",
       "      <td>12.000000</td>\n",
       "    </tr>\n",
       "    <tr>\n",
       "      <td>50%</td>\n",
       "      <td>2319.500000</td>\n",
       "      <td>33.000000</td>\n",
       "      <td>18.000000</td>\n",
       "    </tr>\n",
       "    <tr>\n",
       "      <td>75%</td>\n",
       "      <td>3972.250000</td>\n",
       "      <td>42.000000</td>\n",
       "      <td>24.000000</td>\n",
       "    </tr>\n",
       "    <tr>\n",
       "      <td>max</td>\n",
       "      <td>18424.000000</td>\n",
       "      <td>75.000000</td>\n",
       "      <td>72.000000</td>\n",
       "    </tr>\n",
       "  </tbody>\n",
       "</table>\n",
       "</div>"
      ],
      "text/plain": [
       "       Credit amount  Age in years  Duration in month\n",
       "count    1000.000000   1000.000000        1000.000000\n",
       "mean     3271.258000     35.546000          20.903000\n",
       "std      2822.736876     11.375469          12.058814\n",
       "min       250.000000     19.000000           4.000000\n",
       "25%      1365.500000     27.000000          12.000000\n",
       "50%      2319.500000     33.000000          18.000000\n",
       "75%      3972.250000     42.000000          24.000000\n",
       "max     18424.000000     75.000000          72.000000"
      ]
     },
     "execution_count": 10,
     "metadata": {},
     "output_type": "execute_result"
    }
   ],
   "source": [
    "# Charakterystyki zmiennych kwota kredytu, wiek w latach i trwanie w latach\n",
    "df[[\"Credit amount\", \"Age in years\", \"Duration in month\"]].describe() "
   ]
  },
  {
   "cell_type": "markdown",
   "metadata": {},
   "source": [
    "### Rozkład kwot kredytów, o które zostały zgłoszone wnioski"
   ]
  },
  {
   "cell_type": "code",
   "execution_count": 11,
   "metadata": {},
   "outputs": [
    {
     "data": {
      "text/plain": [
       "<matplotlib.axes._subplots.AxesSubplot at 0x192a6208>"
      ]
     },
     "execution_count": 11,
     "metadata": {},
     "output_type": "execute_result"
    },
    {
     "data": {
      "image/png": "[encoded data removed]",
      "text/plain": [
       "<Figure size 432x288 with 1 Axes>"
      ]
     },
     "metadata": {},
     "output_type": "display_data"
    }
   ],
   "source": [
    "sns.distplot(df[\"Credit amount\"])"
   ]
  },
  {
   "cell_type": "markdown",
   "metadata": {},
   "source": [
    "### Wizualizacja danych w podziale na negatywne decyzje kredytowe i pozytywne"
   ]
  },
  {
   "cell_type": "code",
   "execution_count": 12,
   "metadata": {},
   "outputs": [],
   "source": [
    "def visualize_distribution(attr):\n",
    "    good_risk_df = df[df[\"Cost Matrix(Risk)\"] == \"Good Risk\"]\n",
    "    bad_risk_df = df[df[\"Cost Matrix(Risk)\"] == \"Bad Risk\"]\n",
    "    fig, ax = plt.subplots(nrows=1, ncols=2, figsize=(15, 5))\n",
    "    attr_good_risk_df = good_risk_df[[attr, \"Cost Matrix(Risk)\"]].groupby(attr).count()\n",
    "    attr_bad_risk_df = bad_risk_df[[attr, \"Cost Matrix(Risk)\"]].groupby(attr).count()\n",
    "    ax[0].barh(\n",
    "        attr_good_risk_df[\"Cost Matrix(Risk)\"].index,\n",
    "        attr_good_risk_df[\"Cost Matrix(Risk)\"],\n",
    "        align=\"center\",\n",
    "        color=\"#5975A4\",\n",
    "    )\n",
    "    ax[1].barh(\n",
    "        attr_bad_risk_df[\"Cost Matrix(Risk)\"].index,\n",
    "        attr_bad_risk_df[\"Cost Matrix(Risk)\"],\n",
    "        align=\"center\",\n",
    "        color=\"#B55D60\",\n",
    "    )\n",
    "    ax[0].set_title(\"Good Risk\")\n",
    "    ax[1].set_title(\"Bad Risk\")\n",
    "    ax[0].invert_xaxis()\n",
    "    ax[1].yaxis.tick_right()\n",
    "\n",
    "    num_para_change = [\n",
    "        \"Present residence since\",\n",
    "        \"Number of existing credits at this bank\",\n",
    "        \"Installment rate in percentage of disposable income\",\n",
    "        \"Number of people being liable to provide maintenance for\",\n",
    "    ]\n",
    "    if attr in num_para_change:\n",
    "        for i, v in enumerate(attr_good_risk_df[\"Cost Matrix(Risk)\"]):\n",
    "            ax[0].text(v + 15, i + 1, str(v), color=\"black\")\n",
    "        for i, v in enumerate(attr_bad_risk_df[\"Cost Matrix(Risk)\"]):\n",
    "            ax[1].text(v + 2, i + 1, str(v), color=\"black\")\n",
    "    else:\n",
    "        for i, v in enumerate(attr_good_risk_df[\"Cost Matrix(Risk)\"]):\n",
    "            ax[0].text(v + 25, i + 0.05, str(v), color=\"black\")\n",
    "        for i, v in enumerate(attr_bad_risk_df[\"Cost Matrix(Risk)\"]):\n",
    "            ax[1].text(v + 1, i + 0.05, str(v), color=\"black\")\n",
    "    plt.suptitle(attr)\n",
    "    plt.tight_layout()\n",
    "    plt.show()"
   ]
  },
  {
   "cell_type": "code",
   "execution_count": 13,
   "metadata": {},
   "outputs": [
    {
     "data": {
      "image/png": "[encoded data removed]",
      "text/plain": [
       "<Figure size 1080x360 with 2 Axes>"
      ]
     },
     "metadata": {},
     "output_type": "display_data"
    }
   ],
   "source": [
    "visualize_distribution(\"Status of existing checking account\")"
   ]
  },
  {
   "cell_type": "code",
   "execution_count": 14,
   "metadata": {},
   "outputs": [
    {
     "data": {
      "image/png": "[encoded data removed]",
      "text/plain": [
       "<Figure size 1080x360 with 2 Axes>"
      ]
     },
     "metadata": {},
     "output_type": "display_data"
    }
   ],
   "source": [
    "visualize_distribution(\"Credit history\")"
   ]
  },
  {
   "cell_type": "code",
   "execution_count": 15,
   "metadata": {},
   "outputs": [
    {
     "data": {
      "image/png": "[encoded data removed]",
      "text/plain": [
       "<Figure size 1080x360 with 2 Axes>"
      ]
     },
     "metadata": {},
     "output_type": "display_data"
    }
   ],
   "source": [
    "age_interval = [18, 26, 35, 55, 120]\n",
    "age_category = [\"Student\", \"Young-Adult\", \"Middle-Aged Adult\", \"Senior\"]\n",
    "df[\"Age_Category\"] = pd.cut(df[\"Age in years\"], age_interval, labels=age_category)\n",
    "visualize_distribution(\"Age_Category\")"
   ]
  },
  {
   "cell_type": "code",
   "execution_count": 16,
   "metadata": {},
   "outputs": [
    {
     "data": {
      "image/png": "[encoded data removed]",
      "text/plain": [
       "<Figure size 1080x360 with 2 Axes>"
      ]
     },
     "metadata": {},
     "output_type": "display_data"
    }
   ],
   "source": [
    "visualize_distribution(\"Installment rate in percentage of disposable income\")"
   ]
  },
  {
   "cell_type": "code",
   "execution_count": 17,
   "metadata": {},
   "outputs": [
    {
     "data": {
      "image/png": "[encoded data removed]",
      "text/plain": [
       "<Figure size 1080x360 with 2 Axes>"
      ]
     },
     "metadata": {},
     "output_type": "display_data"
    }
   ],
   "source": [
    "visualize_distribution(\"Personal status and sex\")"
   ]
  },
  {
   "cell_type": "markdown",
   "metadata": {},
   "source": [
    "## Przygotowanie zmiennych do modelowania"
   ]
  },
  {
   "cell_type": "markdown",
   "metadata": {},
   "source": [
    "### Tworzenie zmiennych fikcyjnych na podstawie zmiennych kategorii"
   ]
  },
  {
   "cell_type": "code",
   "execution_count": 18,
   "metadata": {},
   "outputs": [],
   "source": [
    "attr_significant = [\n",
    "    \"Status of existing checking account\",\n",
    "    \"Credit history\",\n",
    "    \"Purpose\",\n",
    "    \"Savings account/bonds\",\n",
    "    \"Present employment since\",\n",
    "    \"Personal status and sex\",\n",
    "    \"Property\",\n",
    "    \"Other installment plans\",\n",
    "    \"Housing\",\n",
    "    \"foreign worker\",\n",
    "    \"Credit amount\",\n",
    "    \"Age in years\",\n",
    "    \"Duration in month\",\n",
    "]\n",
    "\n",
    "target_variable = [\"Cost Matrix(Risk)\"]\n",
    "df = df[attr_significant + target_variable]\n",
    "\n",
    "col_cat_names = [\n",
    "    \"Status of existing checking account\",\n",
    "    \"Credit history\",\n",
    "    \"Purpose\",\n",
    "    \"Savings account/bonds\",\n",
    "    \"Present employment since\",\n",
    "    \"Personal status and sex\",\n",
    "    \"Property\",\n",
    "    \"Other installment plans\",\n",
    "    \"Housing\",\n",
    "    \"foreign worker\",\n",
    "]\n",
    "\n",
    "for attr in col_cat_names:\n",
    "    df = df.merge(pd.get_dummies(df[attr], prefix=attr, dtype=int64), left_index=True, right_index=True)\n",
    "    df.drop(attr, axis=1, inplace=True)"
   ]
  },
  {
   "cell_type": "markdown",
   "metadata": {},
   "source": [
    "### Zmieniam wartość CELU mojego modelu na numeryczną"
   ]
  },
  {
   "cell_type": "code",
   "execution_count": 19,
   "metadata": {},
   "outputs": [],
   "source": [
    "risk = {\"Good Risk\": 1, \"Bad Risk\": 0}\n",
    "df[\"Cost Matrix(Risk)\"] = df[\"Cost Matrix(Risk)\"].map(risk)"
   ]
  },
  {
   "cell_type": "markdown",
   "metadata": {},
   "source": [
    "### Sprawdzam jak wygląda obecnie tabela po przekształceniach"
   ]
  },
  {
   "cell_type": "code",
   "execution_count": 20,
   "metadata": {},
   "outputs": [
    {
     "data": {
      "text/html": [
       "<div>\n",
       "<style scoped>\n",
       "    .dataframe tbody tr th:only-of-type {\n",
       "        vertical-align: middle;\n",
       "    }\n",
       "\n",
       "    .dataframe tbody tr th {\n",
       "        vertical-align: top;\n",
       "    }\n",
       "\n",
       "    .dataframe thead th {\n",
       "        text-align: right;\n",
       "    }\n",
       "</style>\n",
       "<table border=\"1\" class=\"dataframe\">\n",
       "  <thead>\n",
       "    <tr style=\"text-align: right;\">\n",
       "      <th></th>\n",
       "      <th>Credit amount</th>\n",
       "      <th>Age in years</th>\n",
       "      <th>Duration in month</th>\n",
       "      <th>Cost Matrix(Risk)</th>\n",
       "      <th>Status of existing checking account_0 &lt;= &lt;200 DM</th>\n",
       "      <th>Status of existing checking account_&lt;0 DM</th>\n",
       "      <th>Status of existing checking account_&gt;= 200 DM</th>\n",
       "      <th>Status of existing checking account_no checking account</th>\n",
       "      <th>Credit history_all credits at this bank paid back duly</th>\n",
       "      <th>Credit history_critical account</th>\n",
       "      <th>...</th>\n",
       "      <th>Property_savings agreement/life insurance</th>\n",
       "      <th>Property_unknown / no property</th>\n",
       "      <th>Other installment plans_bank</th>\n",
       "      <th>Other installment plans_none</th>\n",
       "      <th>Other installment plans_store</th>\n",
       "      <th>Housing_for free</th>\n",
       "      <th>Housing_own</th>\n",
       "      <th>Housing_rent</th>\n",
       "      <th>foreign worker_no</th>\n",
       "      <th>foreign worker_yes</th>\n",
       "    </tr>\n",
       "  </thead>\n",
       "  <tbody>\n",
       "    <tr>\n",
       "      <td>0</td>\n",
       "      <td>1169</td>\n",
       "      <td>67</td>\n",
       "      <td>6</td>\n",
       "      <td>1</td>\n",
       "      <td>0</td>\n",
       "      <td>1</td>\n",
       "      <td>0</td>\n",
       "      <td>0</td>\n",
       "      <td>0</td>\n",
       "      <td>1</td>\n",
       "      <td>...</td>\n",
       "      <td>0</td>\n",
       "      <td>0</td>\n",
       "      <td>0</td>\n",
       "      <td>1</td>\n",
       "      <td>0</td>\n",
       "      <td>0</td>\n",
       "      <td>1</td>\n",
       "      <td>0</td>\n",
       "      <td>0</td>\n",
       "      <td>1</td>\n",
       "    </tr>\n",
       "    <tr>\n",
       "      <td>1</td>\n",
       "      <td>5951</td>\n",
       "      <td>22</td>\n",
       "      <td>48</td>\n",
       "      <td>0</td>\n",
       "      <td>1</td>\n",
       "      <td>0</td>\n",
       "      <td>0</td>\n",
       "      <td>0</td>\n",
       "      <td>0</td>\n",
       "      <td>0</td>\n",
       "      <td>...</td>\n",
       "      <td>0</td>\n",
       "      <td>0</td>\n",
       "      <td>0</td>\n",
       "      <td>1</td>\n",
       "      <td>0</td>\n",
       "      <td>0</td>\n",
       "      <td>1</td>\n",
       "      <td>0</td>\n",
       "      <td>0</td>\n",
       "      <td>1</td>\n",
       "    </tr>\n",
       "    <tr>\n",
       "      <td>2</td>\n",
       "      <td>2096</td>\n",
       "      <td>49</td>\n",
       "      <td>12</td>\n",
       "      <td>1</td>\n",
       "      <td>0</td>\n",
       "      <td>0</td>\n",
       "      <td>0</td>\n",
       "      <td>1</td>\n",
       "      <td>0</td>\n",
       "      <td>1</td>\n",
       "      <td>...</td>\n",
       "      <td>0</td>\n",
       "      <td>0</td>\n",
       "      <td>0</td>\n",
       "      <td>1</td>\n",
       "      <td>0</td>\n",
       "      <td>0</td>\n",
       "      <td>1</td>\n",
       "      <td>0</td>\n",
       "      <td>0</td>\n",
       "      <td>1</td>\n",
       "    </tr>\n",
       "    <tr>\n",
       "      <td>3</td>\n",
       "      <td>7882</td>\n",
       "      <td>45</td>\n",
       "      <td>42</td>\n",
       "      <td>1</td>\n",
       "      <td>0</td>\n",
       "      <td>1</td>\n",
       "      <td>0</td>\n",
       "      <td>0</td>\n",
       "      <td>0</td>\n",
       "      <td>0</td>\n",
       "      <td>...</td>\n",
       "      <td>1</td>\n",
       "      <td>0</td>\n",
       "      <td>0</td>\n",
       "      <td>1</td>\n",
       "      <td>0</td>\n",
       "      <td>1</td>\n",
       "      <td>0</td>\n",
       "      <td>0</td>\n",
       "      <td>0</td>\n",
       "      <td>1</td>\n",
       "    </tr>\n",
       "    <tr>\n",
       "      <td>4</td>\n",
       "      <td>4870</td>\n",
       "      <td>53</td>\n",
       "      <td>24</td>\n",
       "      <td>0</td>\n",
       "      <td>0</td>\n",
       "      <td>1</td>\n",
       "      <td>0</td>\n",
       "      <td>0</td>\n",
       "      <td>0</td>\n",
       "      <td>0</td>\n",
       "      <td>...</td>\n",
       "      <td>0</td>\n",
       "      <td>1</td>\n",
       "      <td>0</td>\n",
       "      <td>1</td>\n",
       "      <td>0</td>\n",
       "      <td>1</td>\n",
       "      <td>0</td>\n",
       "      <td>0</td>\n",
       "      <td>0</td>\n",
       "      <td>1</td>\n",
       "    </tr>\n",
       "  </tbody>\n",
       "</table>\n",
       "<p>5 rows × 49 columns</p>\n",
       "</div>"
      ],
      "text/plain": [
       "   Credit amount  Age in years  Duration in month  Cost Matrix(Risk)  \\\n",
       "0           1169            67                  6                  1   \n",
       "1           5951            22                 48                  0   \n",
       "2           2096            49                 12                  1   \n",
       "3           7882            45                 42                  1   \n",
       "4           4870            53                 24                  0   \n",
       "\n",
       "   Status of existing checking account_0 <= <200 DM  \\\n",
       "0                                                 0   \n",
       "1                                                 1   \n",
       "2                                                 0   \n",
       "3                                                 0   \n",
       "4                                                 0   \n",
       "\n",
       "   Status of existing checking account_<0 DM  \\\n",
       "0                                          1   \n",
       "1                                          0   \n",
       "2                                          0   \n",
       "3                                          1   \n",
       "4                                          1   \n",
       "\n",
       "   Status of existing checking account_>= 200 DM   \\\n",
       "0                                               0   \n",
       "1                                               0   \n",
       "2                                               0   \n",
       "3                                               0   \n",
       "4                                               0   \n",
       "\n",
       "   Status of existing checking account_no checking account  \\\n",
       "0                                                  0         \n",
       "1                                                  0         \n",
       "2                                                  1         \n",
       "3                                                  0         \n",
       "4                                                  0         \n",
       "\n",
       "   Credit history_all credits at this bank paid back duly  \\\n",
       "0                                                  0        \n",
       "1                                                  0        \n",
       "2                                                  0        \n",
       "3                                                  0        \n",
       "4                                                  0        \n",
       "\n",
       "   Credit history_critical account  ...  \\\n",
       "0                                1  ...   \n",
       "1                                0  ...   \n",
       "2                                1  ...   \n",
       "3                                0  ...   \n",
       "4                                0  ...   \n",
       "\n",
       "   Property_savings agreement/life insurance  Property_unknown / no property  \\\n",
       "0                                          0                               0   \n",
       "1                                          0                               0   \n",
       "2                                          0                               0   \n",
       "3                                          1                               0   \n",
       "4                                          0                               1   \n",
       "\n",
       "   Other installment plans_bank  Other installment plans_none  \\\n",
       "0                             0                             1   \n",
       "1                             0                             1   \n",
       "2                             0                             1   \n",
       "3                             0                             1   \n",
       "4                             0                             1   \n",
       "\n",
       "   Other installment plans_store  Housing_for free  Housing_own  Housing_rent  \\\n",
       "0                              0                 0            1             0   \n",
       "1                              0                 0            1             0   \n",
       "2                              0                 0            1             0   \n",
       "3                              0                 1            0             0   \n",
       "4                              0                 1            0             0   \n",
       "\n",
       "   foreign worker_no  foreign worker_yes  \n",
       "0                  0                   1  \n",
       "1                  0                   1  \n",
       "2                  0                   1  \n",
       "3                  0                   1  \n",
       "4                  0                   1  \n",
       "\n",
       "[5 rows x 49 columns]"
      ]
     },
     "execution_count": 20,
     "metadata": {},
     "output_type": "execute_result"
    }
   ],
   "source": [
    "df.head()"
   ]
  },
  {
   "cell_type": "markdown",
   "metadata": {},
   "source": [
    "### Sprawdzenie formatu i typów danych"
   ]
  },
  {
   "cell_type": "code",
   "execution_count": 21,
   "metadata": {},
   "outputs": [
    {
     "name": "stdout",
     "output_type": "stream",
     "text": [
      "<class 'pandas.core.frame.DataFrame'>\n",
      "RangeIndex: 1000 entries, 0 to 999\n",
      "Data columns (total 49 columns):\n",
      "Credit amount                                                1000 non-null int64\n",
      "Age in years                                                 1000 non-null int64\n",
      "Duration in month                                            1000 non-null int64\n",
      "Cost Matrix(Risk)                                            1000 non-null int64\n",
      "Status of existing checking account_0 <= <200 DM             1000 non-null int64\n",
      "Status of existing checking account_<0 DM                    1000 non-null int64\n",
      "Status of existing checking account_>= 200 DM                1000 non-null int64\n",
      "Status of existing checking account_no checking account      1000 non-null int64\n",
      "Credit history_all credits at this bank paid back duly       1000 non-null int64\n",
      "Credit history_critical account                              1000 non-null int64\n",
      "Credit history_delay in paying off                           1000 non-null int64\n",
      "Credit history_existing credits paid back duly till now      1000 non-null int64\n",
      "Credit history_no credits taken                              1000 non-null int64\n",
      "Purpose_business                                             1000 non-null int64\n",
      "Purpose_car (new)                                            1000 non-null int64\n",
      "Purpose_car (used)                                           1000 non-null int64\n",
      "Purpose_domestic appliances                                  1000 non-null int64\n",
      "Purpose_education                                            1000 non-null int64\n",
      "Purpose_furniture/equipment                                  1000 non-null int64\n",
      "Purpose_others                                               1000 non-null int64\n",
      "Purpose_radio/television                                     1000 non-null int64\n",
      "Purpose_repairs                                              1000 non-null int64\n",
      "Purpose_retraining                                           1000 non-null int64\n",
      "Savings account/bonds_100 <= <500 DM                         1000 non-null int64\n",
      "Savings account/bonds_500 <= < 1000 DM                       1000 non-null int64\n",
      "Savings account/bonds_<100 DM                                1000 non-null int64\n",
      "Savings account/bonds_>= 1000 DM                             1000 non-null int64\n",
      "Savings account/bonds_no savings account                     1000 non-null int64\n",
      "Present employment since_1<= < 4 years                       1000 non-null int64\n",
      "Present employment since_4<= <7 years                        1000 non-null int64\n",
      "Present employment since_<1 years                            1000 non-null int64\n",
      "Present employment since_>=7 years                           1000 non-null int64\n",
      "Present employment since_unemployed                          1000 non-null int64\n",
      "Personal status and sex_female:divorced/separated/married    1000 non-null int64\n",
      "Personal status and sex_male:divorced/separated              1000 non-null int64\n",
      "Personal status and sex_male:married/widowed                 1000 non-null int64\n",
      "Personal status and sex_male:single                          1000 non-null int64\n",
      "Property_car or other                                        1000 non-null int64\n",
      "Property_real estate                                         1000 non-null int64\n",
      "Property_savings agreement/life insurance                    1000 non-null int64\n",
      "Property_unknown / no property                               1000 non-null int64\n",
      "Other installment plans_bank                                 1000 non-null int64\n",
      "Other installment plans_none                                 1000 non-null int64\n",
      "Other installment plans_store                                1000 non-null int64\n",
      "Housing_for free                                             1000 non-null int64\n",
      "Housing_own                                                  1000 non-null int64\n",
      "Housing_rent                                                 1000 non-null int64\n",
      "foreign worker_no                                            1000 non-null int64\n",
      "foreign worker_yes                                           1000 non-null int64\n",
      "dtypes: int64(49)\n",
      "memory usage: 382.9 KB\n"
     ]
    }
   ],
   "source": [
    "df.info() "
   ]
  },
  {
   "cell_type": "markdown",
   "metadata": {},
   "source": [
    "### Usuwam znaki specjalne z nazw zmiennych"
   ]
  },
  {
   "cell_type": "code",
   "execution_count": 22,
   "metadata": {},
   "outputs": [
    {
     "data": {
      "text/html": [
       "<div>\n",
       "<style scoped>\n",
       "    .dataframe tbody tr th:only-of-type {\n",
       "        vertical-align: middle;\n",
       "    }\n",
       "\n",
       "    .dataframe tbody tr th {\n",
       "        vertical-align: top;\n",
       "    }\n",
       "\n",
       "    .dataframe thead th {\n",
       "        text-align: right;\n",
       "    }\n",
       "</style>\n",
       "<table border=\"1\" class=\"dataframe\">\n",
       "  <thead>\n",
       "    <tr style=\"text-align: right;\">\n",
       "      <th></th>\n",
       "      <th>Credit_amount</th>\n",
       "      <th>Age_in_years</th>\n",
       "      <th>Duration_in_month</th>\n",
       "      <th>Cost_MatrixRisk</th>\n",
       "      <th>Status_of_existing_checking_account_0_200_DM</th>\n",
       "      <th>Status_of_existing_checking_account_0_DM</th>\n",
       "      <th>Status_of_existing_checking_account_200_DM_</th>\n",
       "      <th>Status_of_existing_checking_account_no_checking_account</th>\n",
       "      <th>Credit_history_all_credits_at_this_bank_paid_back_duly</th>\n",
       "      <th>Credit_history_critical_account</th>\n",
       "      <th>...</th>\n",
       "      <th>Property_savings_agreement_life_insurance</th>\n",
       "      <th>Property_unknown__no_property</th>\n",
       "      <th>Other_installment_plans_bank</th>\n",
       "      <th>Other_installment_plans_none</th>\n",
       "      <th>Other_installment_plans_store</th>\n",
       "      <th>Housing_for_free</th>\n",
       "      <th>Housing_own</th>\n",
       "      <th>Housing_rent</th>\n",
       "      <th>foreign_worker_no</th>\n",
       "      <th>foreign_worker_yes</th>\n",
       "    </tr>\n",
       "  </thead>\n",
       "  <tbody>\n",
       "    <tr>\n",
       "      <td>0</td>\n",
       "      <td>1169</td>\n",
       "      <td>67</td>\n",
       "      <td>6</td>\n",
       "      <td>1</td>\n",
       "      <td>0</td>\n",
       "      <td>1</td>\n",
       "      <td>0</td>\n",
       "      <td>0</td>\n",
       "      <td>0</td>\n",
       "      <td>1</td>\n",
       "      <td>...</td>\n",
       "      <td>0</td>\n",
       "      <td>0</td>\n",
       "      <td>0</td>\n",
       "      <td>1</td>\n",
       "      <td>0</td>\n",
       "      <td>0</td>\n",
       "      <td>1</td>\n",
       "      <td>0</td>\n",
       "      <td>0</td>\n",
       "      <td>1</td>\n",
       "    </tr>\n",
       "    <tr>\n",
       "      <td>1</td>\n",
       "      <td>5951</td>\n",
       "      <td>22</td>\n",
       "      <td>48</td>\n",
       "      <td>0</td>\n",
       "      <td>1</td>\n",
       "      <td>0</td>\n",
       "      <td>0</td>\n",
       "      <td>0</td>\n",
       "      <td>0</td>\n",
       "      <td>0</td>\n",
       "      <td>...</td>\n",
       "      <td>0</td>\n",
       "      <td>0</td>\n",
       "      <td>0</td>\n",
       "      <td>1</td>\n",
       "      <td>0</td>\n",
       "      <td>0</td>\n",
       "      <td>1</td>\n",
       "      <td>0</td>\n",
       "      <td>0</td>\n",
       "      <td>1</td>\n",
       "    </tr>\n",
       "    <tr>\n",
       "      <td>2</td>\n",
       "      <td>2096</td>\n",
       "      <td>49</td>\n",
       "      <td>12</td>\n",
       "      <td>1</td>\n",
       "      <td>0</td>\n",
       "      <td>0</td>\n",
       "      <td>0</td>\n",
       "      <td>1</td>\n",
       "      <td>0</td>\n",
       "      <td>1</td>\n",
       "      <td>...</td>\n",
       "      <td>0</td>\n",
       "      <td>0</td>\n",
       "      <td>0</td>\n",
       "      <td>1</td>\n",
       "      <td>0</td>\n",
       "      <td>0</td>\n",
       "      <td>1</td>\n",
       "      <td>0</td>\n",
       "      <td>0</td>\n",
       "      <td>1</td>\n",
       "    </tr>\n",
       "    <tr>\n",
       "      <td>3</td>\n",
       "      <td>7882</td>\n",
       "      <td>45</td>\n",
       "      <td>42</td>\n",
       "      <td>1</td>\n",
       "      <td>0</td>\n",
       "      <td>1</td>\n",
       "      <td>0</td>\n",
       "      <td>0</td>\n",
       "      <td>0</td>\n",
       "      <td>0</td>\n",
       "      <td>...</td>\n",
       "      <td>1</td>\n",
       "      <td>0</td>\n",
       "      <td>0</td>\n",
       "      <td>1</td>\n",
       "      <td>0</td>\n",
       "      <td>1</td>\n",
       "      <td>0</td>\n",
       "      <td>0</td>\n",
       "      <td>0</td>\n",
       "      <td>1</td>\n",
       "    </tr>\n",
       "    <tr>\n",
       "      <td>4</td>\n",
       "      <td>4870</td>\n",
       "      <td>53</td>\n",
       "      <td>24</td>\n",
       "      <td>0</td>\n",
       "      <td>0</td>\n",
       "      <td>1</td>\n",
       "      <td>0</td>\n",
       "      <td>0</td>\n",
       "      <td>0</td>\n",
       "      <td>0</td>\n",
       "      <td>...</td>\n",
       "      <td>0</td>\n",
       "      <td>1</td>\n",
       "      <td>0</td>\n",
       "      <td>1</td>\n",
       "      <td>0</td>\n",
       "      <td>1</td>\n",
       "      <td>0</td>\n",
       "      <td>0</td>\n",
       "      <td>0</td>\n",
       "      <td>1</td>\n",
       "    </tr>\n",
       "  </tbody>\n",
       "</table>\n",
       "<p>5 rows × 49 columns</p>\n",
       "</div>"
      ],
      "text/plain": [
       "   Credit_amount  Age_in_years  Duration_in_month  Cost_MatrixRisk  \\\n",
       "0           1169            67                  6                1   \n",
       "1           5951            22                 48                0   \n",
       "2           2096            49                 12                1   \n",
       "3           7882            45                 42                1   \n",
       "4           4870            53                 24                0   \n",
       "\n",
       "   Status_of_existing_checking_account_0_200_DM  \\\n",
       "0                                             0   \n",
       "1                                             1   \n",
       "2                                             0   \n",
       "3                                             0   \n",
       "4                                             0   \n",
       "\n",
       "   Status_of_existing_checking_account_0_DM  \\\n",
       "0                                         1   \n",
       "1                                         0   \n",
       "2                                         0   \n",
       "3                                         1   \n",
       "4                                         1   \n",
       "\n",
       "   Status_of_existing_checking_account_200_DM_  \\\n",
       "0                                            0   \n",
       "1                                            0   \n",
       "2                                            0   \n",
       "3                                            0   \n",
       "4                                            0   \n",
       "\n",
       "   Status_of_existing_checking_account_no_checking_account  \\\n",
       "0                                                  0         \n",
       "1                                                  0         \n",
       "2                                                  1         \n",
       "3                                                  0         \n",
       "4                                                  0         \n",
       "\n",
       "   Credit_history_all_credits_at_this_bank_paid_back_duly  \\\n",
       "0                                                  0        \n",
       "1                                                  0        \n",
       "2                                                  0        \n",
       "3                                                  0        \n",
       "4                                                  0        \n",
       "\n",
       "   Credit_history_critical_account  ...  \\\n",
       "0                                1  ...   \n",
       "1                                0  ...   \n",
       "2                                1  ...   \n",
       "3                                0  ...   \n",
       "4                                0  ...   \n",
       "\n",
       "   Property_savings_agreement_life_insurance  Property_unknown__no_property  \\\n",
       "0                                          0                              0   \n",
       "1                                          0                              0   \n",
       "2                                          0                              0   \n",
       "3                                          1                              0   \n",
       "4                                          0                              1   \n",
       "\n",
       "   Other_installment_plans_bank  Other_installment_plans_none  \\\n",
       "0                             0                             1   \n",
       "1                             0                             1   \n",
       "2                             0                             1   \n",
       "3                             0                             1   \n",
       "4                             0                             1   \n",
       "\n",
       "   Other_installment_plans_store  Housing_for_free  Housing_own  Housing_rent  \\\n",
       "0                              0                 0            1             0   \n",
       "1                              0                 0            1             0   \n",
       "2                              0                 0            1             0   \n",
       "3                              0                 1            0             0   \n",
       "4                              0                 1            0             0   \n",
       "\n",
       "   foreign_worker_no  foreign_worker_yes  \n",
       "0                  0                   1  \n",
       "1                  0                   1  \n",
       "2                  0                   1  \n",
       "3                  0                   1  \n",
       "4                  0                   1  \n",
       "\n",
       "[5 rows x 49 columns]"
      ]
     },
     "execution_count": 22,
     "metadata": {},
     "output_type": "execute_result"
    }
   ],
   "source": [
    "df.columns = df.columns.str.replace(\" \", \"_\")\n",
    "df.columns = df.columns.str.replace(\"/\", \"_\")\n",
    "df.columns = df.columns.str.replace(\"<\", \"\")\n",
    "df.columns = df.columns.str.replace(\"=\", \"\")\n",
    "df.columns = df.columns.str.replace(\")\", \"\")\n",
    "df.columns = df.columns.str.replace(\"(\", \"\")\n",
    "df.columns = df.columns.str.replace(\">\", \"\")\n",
    "df.columns = df.columns.str.replace(\":\", \"\")\n",
    "df.columns = df.columns.str.replace(\"__\", \"_\")\n",
    "df.head()"
   ]
  },
  {
   "cell_type": "markdown",
   "metadata": {},
   "source": [
    "### Sprawdzenie czy klasy są zbalansowane"
   ]
  },
  {
   "cell_type": "code",
   "execution_count": 23,
   "metadata": {},
   "outputs": [
    {
     "data": {
      "text/plain": [
       "1    700\n",
       "0    300\n",
       "Name: Cost_MatrixRisk, dtype: int64"
      ]
     },
     "execution_count": 23,
     "metadata": {},
     "output_type": "execute_result"
    }
   ],
   "source": [
    "df[\"Cost_MatrixRisk\"].value_counts()"
   ]
  },
  {
   "cell_type": "markdown",
   "metadata": {},
   "source": [
    "### Klasy nie są zbalansowane\n",
    "\n",
    "Balansuję klasy używając upsamplingu z powtórzeniami mniejszej klasy."
   ]
  },
  {
   "cell_type": "code",
   "execution_count": 24,
   "metadata": {},
   "outputs": [
    {
     "data": {
      "text/plain": [
       "1    700\n",
       "0    700\n",
       "Name: Cost_MatrixRisk, dtype: int64"
      ]
     },
     "execution_count": 24,
     "metadata": {},
     "output_type": "execute_result"
    }
   ],
   "source": [
    "df_majority = df.query(\"Cost_MatrixRisk==1\")\n",
    "df_minority = df.query(\"Cost_MatrixRisk==0\")\n",
    "\n",
    "additional_df_minority = resample(df_minority, replace=True, n_samples=len(df_majority) - len(df_minority))\n",
    "\n",
    "df = pd.concat([df_majority, df_minority, additional_df_minority])\n",
    "df[\"Cost_MatrixRisk\"].value_counts()"
   ]
  },
  {
   "cell_type": "markdown",
   "metadata": {},
   "source": [
    "## Modelowanie"
   ]
  },
  {
   "cell_type": "markdown",
   "metadata": {},
   "source": [
    "### Dzielę zmienne na zależne (celu) i niezależne"
   ]
  },
  {
   "cell_type": "code",
   "execution_count": 25,
   "metadata": {},
   "outputs": [],
   "source": [
    "### Do porównania ogolnego modeli"
   ]
  },
  {
   "cell_type": "code",
   "execution_count": 26,
   "metadata": {},
   "outputs": [],
   "source": [
    "X = df.drop(\"Cost_MatrixRisk\", 1).values # niezależne wartości\n",
    "y = df[\"Cost_MatrixRisk\"].values # zmienna celu"
   ]
  },
  {
   "cell_type": "markdown",
   "metadata": {},
   "source": [
    "### Porównanie podstawowych modeli"
   ]
  },
  {
   "cell_type": "code",
   "execution_count": 27,
   "metadata": {
    "scrolled": false
   },
   "outputs": [
    {
     "name": "stdout",
     "output_type": "stream",
     "text": [
      "LR: 0.726227 (0.060917)\n",
      "KNN: 0.696582 (0.066253)\n",
      "CART: 0.752071 (0.042658)\n",
      "BC: 0.707026 (0.069727)\n",
      "RF: 0.810590 (0.028902)\n",
      "ERF: 0.837561 (0.035419)\n",
      "ADA: 0.730289 (0.044162)\n",
      "GBC: 0.758575 (0.060522)\n",
      "XGB: 0.787670 (0.030987)\n",
      "NB: 0.652946 (0.067695)\n"
     ]
    }
   ],
   "source": [
    "seed = 123\n",
    "np.random.seed(seed)\n",
    "X2 = scale(X)\n",
    "\n",
    "models = {\n",
    "    \"LR\": LogisticRegression(),\n",
    "    \"KNN\": KNeighborsClassifier(),\n",
    "    \"CART\": DecisionTreeClassifier(),\n",
    "    \"BC\": BaggingClassifier(),\n",
    "    \"RF\": RandomForestClassifier(),\n",
    "    \"ERF\": ExtraTreesClassifier(),\n",
    "    \"ADA\": AdaBoostClassifier(),\n",
    "    \"GBC\": GradientBoostingClassifier(),\n",
    "    \"XGB\": XGBClassifier(),\n",
    "    \"NB\": GaussianNB(),\n",
    "}\n",
    "\n",
    "# evaluate each model in turn\n",
    "results = {}\n",
    "scoring = \"recall\"\n",
    "\n",
    "for name, model in models.items():\n",
    "    kfold = KFold(n_splits=5, shuffle=True, random_state=seed)\n",
    "    cv_results = cross_val_score(model, X2, y, cv=kfold, scoring=scoring)\n",
    "    results[name] = cv_results\n",
    "    msg = \"%s: %f (%f)\" % (name, cv_results.mean(), cv_results.std())\n",
    "    print(msg)"
   ]
  },
  {
   "cell_type": "code",
   "execution_count": 28,
   "metadata": {},
   "outputs": [
    {
     "data": {
      "image/png": "[encoded data removed]",
      "text/plain": [
       "<Figure size 792x432 with 1 Axes>"
      ]
     },
     "metadata": {},
     "output_type": "display_data"
    }
   ],
   "source": [
    "fig = plt.figure(figsize=(11,6))\n",
    "fig.suptitle('Porównanie algorytmów modeli')\n",
    "ax = fig.add_subplot(111)\n",
    "plt.boxplot(results.values())\n",
    "ax.set_xticklabels(results.keys())\n",
    "plt.show()"
   ]
  },
  {
   "cell_type": "markdown",
   "metadata": {},
   "source": [
    "### Stworzenie Pipeline'a do modeli\n"
   ]
  },
  {
   "cell_type": "code",
   "execution_count": 29,
   "metadata": {},
   "outputs": [],
   "source": [
    "### Do modeli z Pipelinem"
   ]
  },
  {
   "cell_type": "code",
   "execution_count": 30,
   "metadata": {},
   "outputs": [],
   "source": [
    "X_train = df.drop(\"Cost_MatrixRisk\", 1) #niezależne wartości\n",
    "y_train = df[\"Cost_MatrixRisk\"] #zmienna celu"
   ]
  },
  {
   "cell_type": "code",
   "execution_count": 31,
   "metadata": {},
   "outputs": [
    {
     "data": {
      "image/png": "[encoded data removed]",
      "text/plain": [
       "<Figure size 432x288 with 1 Axes>"
      ]
     },
     "metadata": {},
     "output_type": "display_data"
    }
   ],
   "source": [
    "from sklearn.model_selection import train_test_split\n",
    "train_data, X_test, y_train, y_test = train_test_split(X_train, y_train, test_size=0.20, shuffle=True, random_state=seed)\n",
    "\n",
    "plt.hist(y_train, alpha=0.5)\n",
    "plt.hist(y_test, alpha=0.5)\n",
    "plt.show()"
   ]
  },
  {
   "cell_type": "code",
   "execution_count": 32,
   "metadata": {},
   "outputs": [],
   "source": [
    "from sklearn.base import BaseEstimator, TransformerMixin\n",
    "\n",
    "\n",
    "class CategoryOtherRecoder(BaseEstimator, TransformerMixin):\n",
    "    \"\"\"Recode less frequent values as new \"Others\" category.\"\"\"\n",
    "\n",
    "    def __init__(self, threshold_perc):\n",
    "        \"\"\"Initialize CategoryOtherRecoder.\n",
    "\n",
    "        For each column, this recoder converts every value occuring less frequently than theshold_perc\n",
    "        to \"Others\". Note that threshold_perc should be a number in range (0, 1).\n",
    "        \"\"\"\n",
    "        self.threshold_perc = threshold_perc\n",
    "\n",
    "    def fit(self, data, y=None):\n",
    "        if not isinstance(data, pd.DataFrame):\n",
    "            data = pd.DataFrame(data)\n",
    "\n",
    "        self.variable_dictionary = {}\n",
    "        for column in data.columns:\n",
    "            freq_table = data[column].value_counts(dropna=True, normalize=True)\n",
    "            categories = freq_table[freq_table > self.threshold_perc].index\n",
    "            self.variable_dictionary[column] = categories\n",
    "\n",
    "        return self\n",
    "\n",
    "    def transform(self, data):\n",
    "        if not isinstance(data, pd.DataFrame):\n",
    "            data = pd.DataFrame(data)\n",
    "\n",
    "        for column in data.columns:\n",
    "            data[str(column) + \"_rec\"] = data[column].apply(\n",
    "                lambda x: x if x in self.variable_dictionary.get(column) else \"Others\"\n",
    "            )\n",
    "        return data.loc[:, [col for col in data.columns if str(col).endswith(\"rec\")]].values\n"
   ]
  },
  {
   "cell_type": "code",
   "execution_count": 33,
   "metadata": {},
   "outputs": [],
   "source": [
    "numerical_feature_transformer = Pipeline(\n",
    "    steps=[\n",
    "        (\"imputer\", SimpleImputer(strategy=\"mean\", copy=True, add_indicator=True)),\n",
    "        (\"scaler\", StandardScaler()),\n",
    "    ]\n",
    ")\n",
    "\n",
    "categorical_feature_transformer = Pipeline(\n",
    "    steps=[\n",
    "        (\"imputer\", SimpleImputer(strategy=\"constant\", fill_value=\"missing\")),\n",
    "        (\"other_rare\", CategoryOtherRecoder(0.5)),\n",
    "        (\"onehot\", OneHotEncoder(handle_unknown=\"ignore\", sparse=False)),\n",
    "    ]\n",
    ")\n",
    "\n",
    "preprocessor = ColumnTransformer(\n",
    "    transformers=[\n",
    "        (\"num\", numerical_feature_transformer, X_train.select_dtypes(\"number\").columns),\n",
    "        (\"cat\", categorical_feature_transformer, X_train.select_dtypes(\"object\").columns),\n",
    "    ]\n",
    ")\n"
   ]
  },
  {
   "cell_type": "code",
   "execution_count": 34,
   "metadata": {},
   "outputs": [
    {
     "data": {
      "text/plain": [
       "ColumnTransformer(transformers=[('num',\n",
       "                                 Pipeline(steps=[('imputer',\n",
       "                                                  SimpleImputer(add_indicator=True)),\n",
       "                                                 ('scaler', StandardScaler())]),\n",
       "                                 Index(['Credit_amount', 'Age_in_years', 'Duration_in_month',\n",
       "       'Status_of_existing_checking_account_0_200_DM',\n",
       "       'Status_of_existing_checking_account_0_DM',\n",
       "       'Status_of_existing_checking_account_200_DM_',\n",
       "       'Status_of_existing_check...\n",
       "       'Other_installment_plans_none', 'Other_installment_plans_store',\n",
       "       'Housing_for_free', 'Housing_own', 'Housing_rent', 'foreign_worker_no',\n",
       "       'foreign_worker_yes'],\n",
       "      dtype='object')),\n",
       "                                ('cat',\n",
       "                                 Pipeline(steps=[('imputer',\n",
       "                                                  SimpleImputer(fill_value='missing',\n",
       "                                                                strategy='constant')),\n",
       "                                                 ('other_rare',\n",
       "                                                  CategoryOtherRecoder(threshold_perc=0.5)),\n",
       "                                                 ('onehot',\n",
       "                                                  OneHotEncoder(handle_unknown='ignore',\n",
       "                                                                sparse=False))]),\n",
       "                                 Index([], dtype='object'))])"
      ]
     },
     "execution_count": 34,
     "metadata": {},
     "output_type": "execute_result"
    }
   ],
   "source": [
    "preprocessor"
   ]
  },
  {
   "cell_type": "code",
   "execution_count": 35,
   "metadata": {},
   "outputs": [
    {
     "name": "stdout",
     "output_type": "stream",
     "text": [
      "R2:  -0.01814516129032273\n",
      "MSE:  0.2516143176020409\n",
      "RMSE:  0.5016117199608088\n"
     ]
    }
   ],
   "source": [
    "df_prediction = pd.DataFrame(y_test.copy())\n",
    "df_prediction[\"prediction\"] = y_train.mean()\n",
    "\n",
    "print(\"R2: \", r2_score(df_prediction[\"Cost_MatrixRisk\"], df_prediction[\"prediction\"]))\n",
    "print(\"MSE: \", mean_squared_error(df_prediction[\"Cost_MatrixRisk\"], df_prediction[\"prediction\"]))\n",
    "print(\n",
    "    \"RMSE: \",\n",
    "    np.sqrt(mean_squared_error(df_prediction[\"Cost_MatrixRisk\"], df_prediction[\"prediction\"])),\n",
    ")\n",
    "\n",
    "baseline_RMSE = np.sqrt(\n",
    "    mean_squared_error(df_prediction[\"Cost_MatrixRisk\"], df_prediction[\"prediction\"])\n",
    ")\n"
   ]
  },
  {
   "cell_type": "code",
   "execution_count": 36,
   "metadata": {},
   "outputs": [
    {
     "name": "stdout",
     "output_type": "stream",
     "text": [
      "LinearSVC\n",
      "LR\n",
      "KNN\n",
      "CART\n",
      "BC\n",
      "RF\n",
      "ERF\n",
      "ADA\n",
      "GBC\n",
      "XGB\n",
      "NB\n"
     ]
    }
   ],
   "source": [
    "models = {\n",
    "    \"LinearSVC\": LinearSVC(max_iter=10000),\n",
    "    \"LR\": LogisticRegression(),\n",
    "    \"KNN\": KNeighborsClassifier(),\n",
    "    \"CART\": DecisionTreeClassifier(),\n",
    "    \"BC\": BaggingClassifier(),\n",
    "    \"RF\": RandomForestClassifier(),\n",
    "    \"ERF\": ExtraTreesClassifier(),\n",
    "    \"ADA\": AdaBoostClassifier(),\n",
    "    \"GBC\": GradientBoostingClassifier(),\n",
    "    \"XGB\": XGBClassifier(),\n",
    "    \"NB\": GaussianNB(),\n",
    "}\n",
    "\n",
    "results = pd.DataFrame(columns=[\"model\", \"mse\", \"rmse\"])\n",
    "\n",
    "for model_name in models:\n",
    "    print(model_name)\n",
    "    model = Pipeline(steps=[(\"preprocessor\", preprocessor), (\"classifier\", models[model_name])])\n",
    "\n",
    "    clf = GridSearchCV(model, param_grid={}, cv=5, scoring=\"neg_mean_squared_error\")\n",
    "    clf.fit(train_data, y_train)\n",
    "\n",
    "    results = results.append(\n",
    "        pd.DataFrame(\n",
    "            {\n",
    "                \"model\": model_name,\n",
    "                \"mse\": -1 * clf.best_score_,\n",
    "                \"rmse\": np.sqrt(-1 * clf.best_score_),\n",
    "            },\n",
    "            index=[0],\n",
    "        )\n",
    "    )\n"
   ]
  },
  {
   "cell_type": "code",
   "execution_count": 37,
   "metadata": {},
   "outputs": [
    {
     "data": {
      "text/html": [
       "<div>\n",
       "<style scoped>\n",
       "    .dataframe tbody tr th:only-of-type {\n",
       "        vertical-align: middle;\n",
       "    }\n",
       "\n",
       "    .dataframe tbody tr th {\n",
       "        vertical-align: top;\n",
       "    }\n",
       "\n",
       "    .dataframe thead th {\n",
       "        text-align: right;\n",
       "    }\n",
       "</style>\n",
       "<table border=\"1\" class=\"dataframe\">\n",
       "  <thead>\n",
       "    <tr style=\"text-align: right;\">\n",
       "      <th></th>\n",
       "      <th>model</th>\n",
       "      <th>mse</th>\n",
       "      <th>rmse</th>\n",
       "    </tr>\n",
       "  </thead>\n",
       "  <tbody>\n",
       "    <tr>\n",
       "      <td>0</td>\n",
       "      <td>LinearSVC</td>\n",
       "      <td>0.280357</td>\n",
       "      <td>0.529488</td>\n",
       "    </tr>\n",
       "    <tr>\n",
       "      <td>0</td>\n",
       "      <td>LR</td>\n",
       "      <td>0.275000</td>\n",
       "      <td>0.524404</td>\n",
       "    </tr>\n",
       "    <tr>\n",
       "      <td>0</td>\n",
       "      <td>KNN</td>\n",
       "      <td>0.304464</td>\n",
       "      <td>0.551783</td>\n",
       "    </tr>\n",
       "    <tr>\n",
       "      <td>0</td>\n",
       "      <td>CART</td>\n",
       "      <td>0.202679</td>\n",
       "      <td>0.450198</td>\n",
       "    </tr>\n",
       "    <tr>\n",
       "      <td>0</td>\n",
       "      <td>BC</td>\n",
       "      <td>0.210714</td>\n",
       "      <td>0.459036</td>\n",
       "    </tr>\n",
       "    <tr>\n",
       "      <td>0</td>\n",
       "      <td>RF</td>\n",
       "      <td>0.175000</td>\n",
       "      <td>0.418330</td>\n",
       "    </tr>\n",
       "    <tr>\n",
       "      <td>0</td>\n",
       "      <td>ERF</td>\n",
       "      <td>0.179464</td>\n",
       "      <td>0.423632</td>\n",
       "    </tr>\n",
       "    <tr>\n",
       "      <td>0</td>\n",
       "      <td>ADA</td>\n",
       "      <td>0.266071</td>\n",
       "      <td>0.515821</td>\n",
       "    </tr>\n",
       "    <tr>\n",
       "      <td>0</td>\n",
       "      <td>GBC</td>\n",
       "      <td>0.233929</td>\n",
       "      <td>0.483662</td>\n",
       "    </tr>\n",
       "    <tr>\n",
       "      <td>0</td>\n",
       "      <td>XGB</td>\n",
       "      <td>0.178571</td>\n",
       "      <td>0.422577</td>\n",
       "    </tr>\n",
       "    <tr>\n",
       "      <td>0</td>\n",
       "      <td>NB</td>\n",
       "      <td>0.297321</td>\n",
       "      <td>0.545272</td>\n",
       "    </tr>\n",
       "  </tbody>\n",
       "</table>\n",
       "</div>"
      ],
      "text/plain": [
       "       model       mse      rmse\n",
       "0  LinearSVC  0.280357  0.529488\n",
       "0         LR  0.275000  0.524404\n",
       "0        KNN  0.304464  0.551783\n",
       "0       CART  0.202679  0.450198\n",
       "0         BC  0.210714  0.459036\n",
       "0         RF  0.175000  0.418330\n",
       "0        ERF  0.179464  0.423632\n",
       "0        ADA  0.266071  0.515821\n",
       "0        GBC  0.233929  0.483662\n",
       "0        XGB  0.178571  0.422577\n",
       "0         NB  0.297321  0.545272"
      ]
     },
     "execution_count": 37,
     "metadata": {},
     "output_type": "execute_result"
    }
   ],
   "source": [
    "results"
   ]
  },
  {
   "cell_type": "code",
   "execution_count": 38,
   "metadata": {},
   "outputs": [
    {
     "data": {
      "text/plain": [
       "<matplotlib.axes._subplots.AxesSubplot at 0x1a549108>"
      ]
     },
     "execution_count": 38,
     "metadata": {},
     "output_type": "execute_result"
    },
    {
     "data": {
      "image/png": "[encoded data removed]",
      "text/plain": [
       "<Figure size 1080x360 with 1 Axes>"
      ]
     },
     "metadata": {},
     "output_type": "display_data"
    }
   ],
   "source": [
    "plt.figure(figsize=(15, 5))\n",
    "sns.barplot(x=\"model\", y=\"rmse\", data=results[results[\"model\"] != \"LR\"], label=\"RMSE\")\n",
    "sns.lineplot(x=results[results[\"model\"] != \"LR\"][\"model\"], y=baseline_RMSE, label=\"RMSE-baseline\")"
   ]
  },
  {
   "cell_type": "code",
   "execution_count": 39,
   "metadata": {},
   "outputs": [],
   "source": [
    "grids = []"
   ]
  },
  {
   "cell_type": "markdown",
   "metadata": {},
   "source": [
    "### Model LinearSVC"
   ]
  },
  {
   "cell_type": "code",
   "execution_count": 40,
   "metadata": {},
   "outputs": [
    {
     "name": "stderr",
     "output_type": "stream",
     "text": [
      "C:\\Users\\Estera\\Anaconda3\\lib\\site-packages\\sklearn\\svm\\_base.py:977: ConvergenceWarning: Liblinear failed to converge, increase the number of iterations.\n",
      "  \"the number of iterations.\", ConvergenceWarning)\n",
      "C:\\Users\\Estera\\Anaconda3\\lib\\site-packages\\sklearn\\svm\\_base.py:977: ConvergenceWarning: Liblinear failed to converge, increase the number of iterations.\n",
      "  \"the number of iterations.\", ConvergenceWarning)\n",
      "C:\\Users\\Estera\\Anaconda3\\lib\\site-packages\\sklearn\\svm\\_base.py:977: ConvergenceWarning: Liblinear failed to converge, increase the number of iterations.\n",
      "  \"the number of iterations.\", ConvergenceWarning)\n",
      "C:\\Users\\Estera\\Anaconda3\\lib\\site-packages\\sklearn\\svm\\_base.py:977: ConvergenceWarning: Liblinear failed to converge, increase the number of iterations.\n",
      "  \"the number of iterations.\", ConvergenceWarning)\n",
      "C:\\Users\\Estera\\Anaconda3\\lib\\site-packages\\sklearn\\svm\\_base.py:977: ConvergenceWarning: Liblinear failed to converge, increase the number of iterations.\n",
      "  \"the number of iterations.\", ConvergenceWarning)\n",
      "C:\\Users\\Estera\\Anaconda3\\lib\\site-packages\\sklearn\\svm\\_base.py:977: ConvergenceWarning: Liblinear failed to converge, increase the number of iterations.\n",
      "  \"the number of iterations.\", ConvergenceWarning)\n",
      "C:\\Users\\Estera\\Anaconda3\\lib\\site-packages\\sklearn\\svm\\_base.py:977: ConvergenceWarning: Liblinear failed to converge, increase the number of iterations.\n",
      "  \"the number of iterations.\", ConvergenceWarning)\n",
      "C:\\Users\\Estera\\Anaconda3\\lib\\site-packages\\sklearn\\svm\\_base.py:977: ConvergenceWarning: Liblinear failed to converge, increase the number of iterations.\n",
      "  \"the number of iterations.\", ConvergenceWarning)\n",
      "C:\\Users\\Estera\\Anaconda3\\lib\\site-packages\\sklearn\\svm\\_base.py:977: ConvergenceWarning: Liblinear failed to converge, increase the number of iterations.\n",
      "  \"the number of iterations.\", ConvergenceWarning)\n",
      "C:\\Users\\Estera\\Anaconda3\\lib\\site-packages\\sklearn\\svm\\_base.py:977: ConvergenceWarning: Liblinear failed to converge, increase the number of iterations.\n",
      "  \"the number of iterations.\", ConvergenceWarning)\n"
     ]
    },
    {
     "data": {
      "text/plain": [
       "{'classifier__C': 0.1}"
      ]
     },
     "execution_count": 40,
     "metadata": {},
     "output_type": "execute_result"
    }
   ],
   "source": [
    "pipe = Pipeline([(\"preprocessing\", preprocessor), (\"classifier\", LinearSVC(C=1, max_iter=10000))])\n",
    "\n",
    "param_grid = {\"classifier__C\": [0.001, 0.01, 0.1, 1, 10, 100]}\n",
    "\n",
    "grid = GridSearchCV(pipe, param_grid, cv=kfold, return_train_score=True)\n",
    "\n",
    "grid.fit(train_data, y_train)\n",
    "grids.append(grid)\n",
    "grid.best_params_"
   ]
  },
  {
   "cell_type": "markdown",
   "metadata": {},
   "source": [
    "### Model SVC"
   ]
  },
  {
   "cell_type": "code",
   "execution_count": 41,
   "metadata": {},
   "outputs": [
    {
     "data": {
      "text/plain": [
       "{'classifier__C': 1, 'classifier__gamma': 10}"
      ]
     },
     "execution_count": 41,
     "metadata": {},
     "output_type": "execute_result"
    }
   ],
   "source": [
    "pipe_2 = Pipeline([(\"preprocessing\", preprocessor), (\"classifier\", SVC(C=1, probability=True))])\n",
    "\n",
    "param_grid_2 = {\n",
    "    \"classifier__C\": [0.001, 0.01, 0.1, 1, 10, 100, 1000, 10000],\n",
    "    \"classifier__gamma\": [0.0001, 0.001, 0.01, 0.1, 1, 10, 100],\n",
    "}\n",
    "\n",
    "grid_2 = GridSearchCV(pipe_2, param_grid_2, cv=kfold, return_train_score=True)\n",
    "\n",
    "grid_2.fit(train_data, y_train)\n",
    "grids.append(grid_2)\n",
    "grid_2.best_params_"
   ]
  },
  {
   "cell_type": "markdown",
   "metadata": {},
   "source": [
    "### Model LogisticRegression"
   ]
  },
  {
   "cell_type": "code",
   "execution_count": 42,
   "metadata": {},
   "outputs": [
    {
     "data": {
      "text/plain": [
       "{'classifier__C': 1}"
      ]
     },
     "execution_count": 42,
     "metadata": {},
     "output_type": "execute_result"
    }
   ],
   "source": [
    "pipe_3 = Pipeline([('preprocessing', preprocessor), ('classifier', LogisticRegression(C=1))])\n",
    "\n",
    "param_grid_3 = {\n",
    "            'classifier__C': [0.001, 0.01, 0.1, 1, 10, 100]\n",
    "}\n",
    "\n",
    "grid_3 = GridSearchCV(pipe_3, param_grid_3, cv=kfold, return_train_score=True)\n",
    "\n",
    "grid_3.fit(train_data, y_train)\n",
    "grids.append(grid_3)\n",
    "grid_3.best_params_"
   ]
  },
  {
   "cell_type": "markdown",
   "metadata": {},
   "source": [
    "### Model KNeighbors "
   ]
  },
  {
   "cell_type": "code",
   "execution_count": 43,
   "metadata": {},
   "outputs": [
    {
     "data": {
      "text/plain": [
       "{'classifier__metric': 'cityblock', 'classifier__n_neighbors': 2}"
      ]
     },
     "execution_count": 43,
     "metadata": {},
     "output_type": "execute_result"
    }
   ],
   "source": [
    "pipe_4 = Pipeline(\n",
    "    [\n",
    "        (\"preprocessing\", preprocessor),\n",
    "        (\"classifier\", KNeighborsClassifier(n_neighbors=2, metric=\"euclidean\")),\n",
    "    ]\n",
    ")\n",
    "\n",
    "param_grid_4 = {\n",
    "    \"classifier__n_neighbors\": [2, 3, 4, 5, 6],\n",
    "    \"classifier__metric\": [\"euclidean\", \"cityblock\", \"cosine\", \"minkowski\"],\n",
    "}\n",
    "\n",
    "\n",
    "grid_4 = GridSearchCV(pipe_4, param_grid_4, cv=kfold, return_train_score=True)\n",
    "\n",
    "grid_4.fit(train_data, y_train)\n",
    "grids.append(grid_4)\n",
    "grid_4.best_params_"
   ]
  },
  {
   "cell_type": "markdown",
   "metadata": {},
   "source": [
    "### Model DecisionTreeClassifier"
   ]
  },
  {
   "cell_type": "code",
   "execution_count": 44,
   "metadata": {},
   "outputs": [
    {
     "data": {
      "text/plain": [
       "{'classifier__max_depth': 10,\n",
       " 'classifier__max_leaf_nodes': 40,\n",
       " 'classifier__min_samples_split': 3}"
      ]
     },
     "execution_count": 44,
     "metadata": {},
     "output_type": "execute_result"
    }
   ],
   "source": [
    "from sklearn.tree import DecisionTreeClassifier\n",
    "\n",
    "pipe_5 = Pipeline([(\"preprocessing\", preprocessor), (\"classifier\", DecisionTreeClassifier())])\n",
    "\n",
    "param_grid_5 = {\n",
    "    \"classifier__max_depth\": [5, 9, 10, 11, 20, 30],\n",
    "    \"classifier__min_samples_split\": [2, 3, 5, 10, 20, 30, 40],\n",
    "    \"classifier__max_leaf_nodes\": [3, 4, 10, 14, 15, 16, 20, 30, 40],\n",
    "}\n",
    "\n",
    "\n",
    "grid_5 = GridSearchCV(pipe_5, param_grid_5, cv=kfold, return_train_score=True)\n",
    "\n",
    "grid_5.fit(train_data, y_train)\n",
    "grids.append(grid_5)\n",
    "grid_5.best_params_"
   ]
  },
  {
   "cell_type": "markdown",
   "metadata": {},
   "source": [
    "### BaggingClassifier"
   ]
  },
  {
   "cell_type": "code",
   "execution_count": 45,
   "metadata": {},
   "outputs": [
    {
     "data": {
      "text/plain": [
       "{'classifier__max_features': 10,\n",
       " 'classifier__max_samples': 30,\n",
       " 'classifier__n_estimators': 100}"
      ]
     },
     "execution_count": 45,
     "metadata": {},
     "output_type": "execute_result"
    }
   ],
   "source": [
    "from sklearn.ensemble import BaggingClassifier\n",
    "from sklearn.tree import DecisionTreeClassifier\n",
    "\n",
    "pipe_6 = Pipeline(\n",
    "    [\n",
    "        (\"preprocessing\", preprocessor),\n",
    "        (\n",
    "            \"classifier\",\n",
    "            BaggingClassifier(\n",
    "                DecisionTreeClassifier(random_state=42),\n",
    "                n_estimators=500,\n",
    "                max_samples=100,\n",
    "                bootstrap=True,\n",
    "                random_state=42,\n",
    "            ),\n",
    "        ),\n",
    "    ]\n",
    ")\n",
    "param_grid_6 = {\n",
    "    \"classifier__n_estimators\": [10, 50, 100],\n",
    "    \"classifier__max_samples\": [10, 20, 30],\n",
    "    \"classifier__max_features\": [2, 5, 10],\n",
    "}\n",
    "grid_6 = GridSearchCV(pipe_6, param_grid_6, cv=kfold, return_train_score=True)\n",
    "grid_6.fit(train_data, y_train)\n",
    "grids.append(grid_6)\n",
    "grid_6.best_params_"
   ]
  },
  {
   "cell_type": "markdown",
   "metadata": {},
   "source": [
    "### RandomForestClassifier"
   ]
  },
  {
   "cell_type": "code",
   "execution_count": 46,
   "metadata": {},
   "outputs": [
    {
     "data": {
      "text/plain": [
       "{'classifier__max_depth': 10,\n",
       " 'classifier__max_leaf_nodes': 20,\n",
       " 'classifier__n_estimators': 50}"
      ]
     },
     "execution_count": 46,
     "metadata": {},
     "output_type": "execute_result"
    }
   ],
   "source": [
    "pipe_7 = Pipeline(\n",
    "    [\n",
    "        (\"preprocessing\", preprocessor),\n",
    "        (\"classifier\", RandomForestClassifier(n_estimators=500, max_leaf_nodes=16)),\n",
    "    ]\n",
    ")\n",
    "\n",
    "param_grid_7 = {\n",
    "    \"classifier__n_estimators\": [10, 50, 100],\n",
    "    \"classifier__max_leaf_nodes\": [10, 20],\n",
    "    \"classifier__max_depth\": [10, 20],\n",
    "}\n",
    "\n",
    "grid_7 = GridSearchCV(pipe_7, param_grid_7, cv=kfold, return_train_score=True)\n",
    "\n",
    "grid_7.fit(train_data, y_train)\n",
    "grids.append(grid_7)\n",
    "grid_7.best_params_"
   ]
  },
  {
   "cell_type": "markdown",
   "metadata": {},
   "source": [
    "### ExtraTreesClassifier"
   ]
  },
  {
   "cell_type": "code",
   "execution_count": 47,
   "metadata": {},
   "outputs": [
    {
     "data": {
      "text/plain": [
       "{'classifier__max_depth': 20,\n",
       " 'classifier__max_leaf_nodes': 20,\n",
       " 'classifier__n_estimators': 10}"
      ]
     },
     "execution_count": 47,
     "metadata": {},
     "output_type": "execute_result"
    }
   ],
   "source": [
    "pipe_8 = Pipeline(\n",
    "    [\n",
    "        (\"preprocessing\", preprocessor),\n",
    "        (\"classifier\", ExtraTreesClassifier(n_estimators=500, max_leaf_nodes=16)),\n",
    "    ]\n",
    ")\n",
    "\n",
    "param_grid_8 = {\n",
    "    \"classifier__n_estimators\": [10, 50, 100],\n",
    "    \"classifier__max_leaf_nodes\": [10, 20],\n",
    "    \"classifier__max_depth\": [10, 20],\n",
    "}\n",
    "\n",
    "grid_8 = GridSearchCV(pipe_8, param_grid_8, cv=kfold, return_train_score=True)\n",
    "\n",
    "grid_8.fit(train_data, y_train)\n",
    "grids.append(grid_8)\n",
    "grid_8.best_params_"
   ]
  },
  {
   "cell_type": "markdown",
   "metadata": {},
   "source": [
    "### AdaBoostClassifier \n",
    "### DecisionTreeClassifier"
   ]
  },
  {
   "cell_type": "code",
   "execution_count": 48,
   "metadata": {},
   "outputs": [
    {
     "data": {
      "text/plain": [
       "{'classifier__base_estimator__max_depth': 5,\n",
       " 'classifier__base_estimator__max_leaf_nodes': 20,\n",
       " 'classifier__learning_rate': 0.9,\n",
       " 'classifier__n_estimators': 50}"
      ]
     },
     "execution_count": 48,
     "metadata": {},
     "output_type": "execute_result"
    }
   ],
   "source": [
    "pipe_9 = Pipeline(\n",
    "    [\n",
    "        (\"preprocessing\", preprocessor),\n",
    "        (\n",
    "            \"classifier\",\n",
    "            AdaBoostClassifier(\n",
    "                DecisionTreeClassifier(),\n",
    "                n_estimators=1,\n",
    "                learning_rate=0.5,\n",
    "                algorithm=\"SAMME.R\",\n",
    "                random_state=42,\n",
    "            ),\n",
    "        ),\n",
    "    ]\n",
    ")\n",
    "\n",
    "\n",
    "param_grid_9 = {\n",
    "    \"classifier__n_estimators\": [5, 10, 50, 100],\n",
    "    \"classifier__base_estimator__max_leaf_nodes\": [5, 10, 20],\n",
    "    \"classifier__base_estimator__max_depth\": [5, 10, 20, 50, 100],\n",
    "    \"classifier__learning_rate\": [0.1, 0.2, 0.5, 0.9, 1],\n",
    "}\n",
    "\n",
    "grid_9 = GridSearchCV(pipe_9, param_grid_9, cv=kfold, return_train_score=True)\n",
    "\n",
    "grid_9.fit(train_data, y_train)\n",
    "grids.append(grid_9)\n",
    "grid_9.best_params_"
   ]
  },
  {
   "cell_type": "markdown",
   "metadata": {},
   "source": [
    "### GradientBoostingClassifier"
   ]
  },
  {
   "cell_type": "code",
   "execution_count": 49,
   "metadata": {},
   "outputs": [
    {
     "data": {
      "text/plain": [
       "{'classifier__learning_rate': 1,\n",
       " 'classifier__max_depth': 10,\n",
       " 'classifier__n_estimators': 50}"
      ]
     },
     "execution_count": 49,
     "metadata": {},
     "output_type": "execute_result"
    }
   ],
   "source": [
    "pipe_10 = Pipeline(\n",
    "    [\n",
    "        (\"preprocessing\", preprocessor),\n",
    "        (\n",
    "            \"classifier\",\n",
    "            GradientBoostingClassifier(n_estimators=1, learning_rate=0.5, random_state=42),\n",
    "        ),\n",
    "    ]\n",
    ")\n",
    "\n",
    "\n",
    "param_grid_10 = {\n",
    "    \"classifier__n_estimators\": [50, 100, 200],\n",
    "    \"classifier__learning_rate\": [0.1, 0.2, 0.5, 0.9, 1],\n",
    "    \"classifier__max_depth\": [10, 20, 30],\n",
    "    \"classifier__n_estimators\": [10, 20, 30, 50, 100, 200],\n",
    "}\n",
    "\n",
    "grid_10 = GridSearchCV(pipe_10, param_grid_10, cv=kfold, return_train_score=True)\n",
    "\n",
    "grid_10.fit(train_data, y_train)\n",
    "grids.append(grid_10)\n",
    "grid_10.best_params_"
   ]
  },
  {
   "cell_type": "markdown",
   "metadata": {},
   "source": [
    "### Xgboost XGBClassifier"
   ]
  },
  {
   "cell_type": "code",
   "execution_count": 50,
   "metadata": {},
   "outputs": [
    {
     "data": {
      "text/plain": [
       "{'classifier__learning_rate': 0.5,\n",
       " 'classifier__n_estimators': 50,\n",
       " 'classifier__subsample': 1}"
      ]
     },
     "execution_count": 50,
     "metadata": {},
     "output_type": "execute_result"
    }
   ],
   "source": [
    "pipe_11 = Pipeline(\n",
    "    [\n",
    "        (\"preprocessing\", preprocessor),\n",
    "        (\"classifier\", XGBClassifier(n_estimators=1, learning_rate=0.5, random_state=42)),\n",
    "    ]\n",
    ")\n",
    "\n",
    "param_grid_11 = {\n",
    "    \"classifier__n_estimators\": [50, 100, 200],\n",
    "    \"classifier__learning_rate\": [0.1, 0.2, 0.5, 0.9, 1],\n",
    "    \"classifier__subsample\": [0.1, 0.2, 0.5, 0.9, 1],\n",
    "}\n",
    "\n",
    "grid_11 = GridSearchCV(pipe_11, param_grid_11, cv=kfold, return_train_score=True)\n",
    "\n",
    "grid_11.fit(train_data, y_train)\n",
    "grids.append(grid_11)\n",
    "grid_11.best_params_"
   ]
  },
  {
   "cell_type": "markdown",
   "metadata": {},
   "source": [
    "## RandomizedSearchCV Xgboost XGBClassifier"
   ]
  },
  {
   "cell_type": "code",
   "execution_count": 51,
   "metadata": {},
   "outputs": [
    {
     "data": {
      "text/plain": [
       "{'classifier__colsample_bytree': 0.7959203915475749,\n",
       " 'classifier__gamma': 0.1149628994706493,\n",
       " 'classifier__learning_rate': 0.05117604316121472,\n",
       " 'classifier__max_depth': 10,\n",
       " 'classifier__min_child_weight': 1,\n",
       " 'classifier__n_estimators': 134,\n",
       " 'classifier__subsample': 0.771999290074024}"
      ]
     },
     "execution_count": 51,
     "metadata": {},
     "output_type": "execute_result"
    }
   ],
   "source": [
    "from scipy.stats.distributions import uniform, randint\n",
    "\n",
    "estimator = XGBClassifier(n_jobs=-1)\n",
    "\n",
    "pipe_12 = Pipeline(\n",
    "    [(\"preprocessing\", preprocessor), (\"classifier\", XGBClassifier(n_jobs=-1))]\n",
    ")\n",
    "\n",
    "param_grid_12 = {\n",
    "    \"classifier__max_depth\": randint(3, 11),\n",
    "    \"classifier__learning_rate\": uniform(0.001, 0.1 - 0.001),\n",
    "    \"classifier__n_estimators\": randint(50, 400),\n",
    "    \"classifier__gamma\": uniform(0, 2),\n",
    "    \"classifier__colsample_bytree\": uniform(0.5, 0.5),\n",
    "    \"classifier__subsample\": uniform(0.5, 0.5),\n",
    "    \"classifier__min_child_weight\": randint(1, 11),\n",
    "}\n",
    "\n",
    "\n",
    "grid_12 = RandomizedSearchCV(\n",
    "    n_iter=90,\n",
    "    estimator=pipe_12,\n",
    "    param_distributions=param_grid_12,\n",
    "    cv=kfold,\n",
    "    return_train_score=True,\n",
    ")\n",
    "\n",
    "grid_12.fit(train_data, y_train)\n",
    "grids.append(grid_12)\n",
    "grid_12.best_params_"
   ]
  },
  {
   "cell_type": "code",
   "execution_count": 52,
   "metadata": {
    "scrolled": false
   },
   "outputs": [
    {
     "name": "stdout",
     "output_type": "stream",
     "text": [
      "SVN Linear\n",
      "precision_score: 0.7441860465116279\n",
      "recall_score: 0.768\n",
      "f1_score: 0.7559055118110236\n",
      "accuracy_score: 0.7785714285714286\n",
      "SVM rbf\n",
      "precision_score: 0.7961783439490446\n",
      "recall_score: 1.0\n",
      "f1_score: 0.8865248226950355\n",
      "accuracy_score: 0.8857142857142857\n",
      "LR\n",
      "precision_score: 0.732824427480916\n",
      "recall_score: 0.768\n",
      "f1_score: 0.75\n",
      "accuracy_score: 0.7714285714285715\n",
      "KNN\n",
      "precision_score: 0.875\n",
      "recall_score: 0.672\n",
      "f1_score: 0.7601809954751132\n",
      "accuracy_score: 0.8107142857142857\n",
      "Decision Tree\n",
      "precision_score: 0.7322834645669292\n",
      "recall_score: 0.744\n",
      "f1_score: 0.7380952380952381\n",
      "accuracy_score: 0.7642857142857142\n",
      "Bagging\n",
      "precision_score: 0.6666666666666666\n",
      "recall_score: 0.72\n",
      "f1_score: 0.6923076923076923\n",
      "accuracy_score: 0.7142857142857143\n",
      "RandomForest\n",
      "precision_score: 0.7368421052631579\n",
      "recall_score: 0.784\n",
      "f1_score: 0.7596899224806203\n",
      "accuracy_score: 0.7785714285714286\n",
      "ExtraTrees\n",
      "precision_score: 0.7711864406779662\n",
      "recall_score: 0.728\n",
      "f1_score: 0.748971193415638\n",
      "accuracy_score: 0.7821428571428571\n",
      "AdaBoost\n",
      "precision_score: 0.8305084745762712\n",
      "recall_score: 0.784\n",
      "f1_score: 0.8065843621399177\n",
      "accuracy_score: 0.8321428571428572\n",
      "GradientBoosting\n",
      "precision_score: 0.84375\n",
      "recall_score: 0.864\n",
      "f1_score: 0.8537549407114625\n",
      "accuracy_score: 0.8678571428571429\n",
      "XGB\n",
      "precision_score: 0.8813559322033898\n",
      "recall_score: 0.832\n",
      "f1_score: 0.8559670781893003\n",
      "accuracy_score: 0.875\n",
      "XGB Rand\n",
      "precision_score: 0.9304347826086956\n",
      "recall_score: 0.856\n",
      "f1_score: 0.8916666666666667\n",
      "accuracy_score: 0.9071428571428571\n"
     ]
    }
   ],
   "source": [
    "from sklearn import metrics\n",
    "\n",
    "model_names = [\n",
    "    \"SVN Linear\",\n",
    "    \"SVM rbf\",\n",
    "    \"LR\",\n",
    "    \"KNN\",\n",
    "    \"Decision Tree\",\n",
    "    \"Bagging\",\n",
    "    \"RandomForest\",\n",
    "    \"ExtraTrees\",\n",
    "    \"AdaBoost\",\n",
    "    \"GradientBoosting\",\n",
    "    \"XGB\",\n",
    "    \"XGB Rand\",\n",
    "]\n",
    "models = [(name, grid.best_estimator_) for name, grid in zip(model_names, grids)]\n",
    "\n",
    "precision_score = []\n",
    "recall_score = []\n",
    "f1_score = []\n",
    "accuracy_score = []\n",
    "roc_auc_score = []\n",
    "for name, model in models:\n",
    "    print(name)\n",
    "    print(\"precision_score: {}\".format(metrics.precision_score(y_test, model.predict(X_test))))\n",
    "    print(\"recall_score: {}\".format(metrics.recall_score(y_test, model.predict(X_test))))\n",
    "    print(\"f1_score: {}\".format(metrics.f1_score(y_test, model.predict(X_test))))\n",
    "    print(\"accuracy_score: {}\".format(metrics.accuracy_score(y_test, model.predict(X_test))))\n",
    "    precision_score.append(metrics.precision_score(y_test, model.predict(X_test)))\n",
    "    recall_score.append(metrics.recall_score(y_test, model.predict(X_test)))\n",
    "    f1_score.append(metrics.f1_score(y_test, model.predict(X_test)))\n",
    "    accuracy_score.append(metrics.accuracy_score(y_test, model.predict(X_test)))\n",
    "    if name == \"KNN\":\n",
    "        roc_auc_score.append(metrics.roc_auc_score(y_test, model.predict_proba(X_test)[:, 1]))\n",
    "    elif name in [\n",
    "        \"Decision Tree\",\n",
    "        \"Voting\",\n",
    "        \"Bagging\",\n",
    "        \"RandomForest\",\n",
    "        \"ExtraTrees\",\n",
    "        \"AdaBoostClassifier\",\n",
    "        \"GradientBoosting\",\n",
    "        \"XGB\",\n",
    "        \"XGB Rand\",\n",
    "    ]:\n",
    "        roc_auc_score.append(metrics.roc_auc_score(y_test, model.predict_proba(X_test)[:, 1]))\n",
    "    else:\n",
    "        roc_auc_score.append(metrics.roc_auc_score(y_test, model.decision_function(X_test)))"
   ]
  },
  {
   "cell_type": "markdown",
   "metadata": {},
   "source": [
    "### Podsumowanie wyników klasyfikatorów modeli"
   ]
  },
  {
   "cell_type": "code",
   "execution_count": 55,
   "metadata": {},
   "outputs": [],
   "source": [
    "import pandas as pd\n",
    "import numpy as np\n",
    "\n",
    "d = {\n",
    "    \"precision_score\": precision_score,\n",
    "    \"recall_score\": recall_score,\n",
    "    \"f1_score\": f1_score,\n",
    "    \"accuracy_score\": accuracy_score,\n",
    "    \"roc_auc_score\": roc_auc_score,\n",
    "}\n",
    "df = pd.DataFrame(data=d)\n",
    "df.insert(\n",
    "    loc=0,\n",
    "    column=\"Method\",\n",
    "    value=model_names\n",
    ")"
   ]
  },
  {
   "cell_type": "code",
   "execution_count": 56,
   "metadata": {},
   "outputs": [],
   "source": [
    "def highlight_max(s):\n",
    "    '''\n",
    "    Funkcja highlight_max podkreśli najwyższy wynik w kolumnie\n",
    "    '''\n",
    "    is_max = s == s.max()\n",
    "    return ['background-color: yellow' if v else '' for v in is_max]"
   ]
  },
  {
   "cell_type": "markdown",
   "metadata": {},
   "source": [
    "### Miary oceny klasyfikatora\n",
    "\n",
    "* Za dokładność rozpoznania w obrębie klasy odpowiada miara **precision**.\n",
    "* Za rozpoznanie ilości elementów z klasy odpowiada miara **recall**.\n",
    "\n",
    "![zdjęcie](https://ksopyla.com/wp-content/uploads/2019/10/image-3.png)\n",
    "\n",
    "Jak porównać do siebie dwa klasyfikatory?\n",
    "\n",
    "Sprawa jest prosta, gdy wszystkie wartości są dla jednego z nich większe, ale co w sytuacji, gdy w jednym większe jest precision dla klasy “A”, a w drugim recall. W drugim przypadku wykonuje się uśrednienie wyników, do ktorego wykorystywany jest **współczynnik F1**.\n",
    "\n",
    "![zdjęcie](https://wikimedia.org/api/rest_v1/media/math/render/svg/1bf179c30b00db201ce1895d88fe2915d58e6bfd)\n",
    "\n",
    "W nieco ogólniejszej formie, współczynnik $F_1$ można zastąpić współczynnikiem $F_\\beta$, w którym miary *precision* i *recall* są uśredniane z róznymi wagami.\n",
    "\n",
    "$$\n",
    "F_\\beta = (1 + \\beta^2) \\cdot \\frac{\\mathrm{precision} \\cdot \\mathrm{recall}}{(\\beta^2 \\cdot \\mathrm{precision}) + \\mathrm{recall}}\n",
    "$$\n",
    "\n",
    "Przy czym, dla współczynnika $F_\\beta$ metryka recall otrzymuje wagę $\\beta$ razy większą niż precision. Na przykład:\n",
    "\n",
    "- β=1 – precision i recall tak samo ważne\n",
    "- β=0.5 precision ważniejsze\n",
    "- β=2 recall ważniejszy\n",
    "    \n",
    "**Accuracy score (dokładność)** jest najbardziej intuicyjną miarą wydajności i jest po prostu stosunkiem prawidłowo przewidywanej obserwacji do łącznej liczby obserwacji. Można pomyśleć, że jeśli mamy wysoką dokładność, nasz model jest najlepszy. Dokładność jest świetną miarą, ale tylko wtedy, gdy mamy symetryczny zestawy danych, w których wartości fałszywie dodatnich i fałszywych negatywów są prawie takie same. Dlatego nalezy spojrzeć na inne parametry, aby ocenić wydajność swojego modelu."
   ]
  },
  {
   "cell_type": "code",
   "execution_count": 57,
   "metadata": {},
   "outputs": [
    {
     "data": {
      "text/html": [
       "<style  type=\"text/css\" >\n",
       "    #T_3b6950fe_bb72_11ea_a03b_5cc5d4b2a605row1_col2 {\n",
       "            background-color:  yellow;\n",
       "        }    #T_3b6950fe_bb72_11ea_a03b_5cc5d4b2a605row9_col5 {\n",
       "            background-color:  yellow;\n",
       "        }    #T_3b6950fe_bb72_11ea_a03b_5cc5d4b2a605row11_col1 {\n",
       "            background-color:  yellow;\n",
       "        }    #T_3b6950fe_bb72_11ea_a03b_5cc5d4b2a605row11_col3 {\n",
       "            background-color:  yellow;\n",
       "        }    #T_3b6950fe_bb72_11ea_a03b_5cc5d4b2a605row11_col4 {\n",
       "            background-color:  yellow;\n",
       "        }</style><table id=\"T_3b6950fe_bb72_11ea_a03b_5cc5d4b2a605\" ><thead>    <tr>        <th class=\"blank level0\" ></th>        <th class=\"col_heading level0 col0\" >Method</th>        <th class=\"col_heading level0 col1\" >precision_score</th>        <th class=\"col_heading level0 col2\" >recall_score</th>        <th class=\"col_heading level0 col3\" >f1_score</th>        <th class=\"col_heading level0 col4\" >accuracy_score</th>        <th class=\"col_heading level0 col5\" >roc_auc_score</th>    </tr></thead><tbody>\n",
       "                <tr>\n",
       "                        <th id=\"T_3b6950fe_bb72_11ea_a03b_5cc5d4b2a605level0_row0\" class=\"row_heading level0 row0\" >0</th>\n",
       "                        <td id=\"T_3b6950fe_bb72_11ea_a03b_5cc5d4b2a605row0_col0\" class=\"data row0 col0\" >SVN Linear</td>\n",
       "                        <td id=\"T_3b6950fe_bb72_11ea_a03b_5cc5d4b2a605row0_col1\" class=\"data row0 col1\" >0.744186</td>\n",
       "                        <td id=\"T_3b6950fe_bb72_11ea_a03b_5cc5d4b2a605row0_col2\" class=\"data row0 col2\" >0.768</td>\n",
       "                        <td id=\"T_3b6950fe_bb72_11ea_a03b_5cc5d4b2a605row0_col3\" class=\"data row0 col3\" >0.755906</td>\n",
       "                        <td id=\"T_3b6950fe_bb72_11ea_a03b_5cc5d4b2a605row0_col4\" class=\"data row0 col4\" >0.778571</td>\n",
       "                        <td id=\"T_3b6950fe_bb72_11ea_a03b_5cc5d4b2a605row0_col5\" class=\"data row0 col5\" >0.845265</td>\n",
       "            </tr>\n",
       "            <tr>\n",
       "                        <th id=\"T_3b6950fe_bb72_11ea_a03b_5cc5d4b2a605level0_row1\" class=\"row_heading level0 row1\" >1</th>\n",
       "                        <td id=\"T_3b6950fe_bb72_11ea_a03b_5cc5d4b2a605row1_col0\" class=\"data row1 col0\" >SVM rbf</td>\n",
       "                        <td id=\"T_3b6950fe_bb72_11ea_a03b_5cc5d4b2a605row1_col1\" class=\"data row1 col1\" >0.796178</td>\n",
       "                        <td id=\"T_3b6950fe_bb72_11ea_a03b_5cc5d4b2a605row1_col2\" class=\"data row1 col2\" >1</td>\n",
       "                        <td id=\"T_3b6950fe_bb72_11ea_a03b_5cc5d4b2a605row1_col3\" class=\"data row1 col3\" >0.886525</td>\n",
       "                        <td id=\"T_3b6950fe_bb72_11ea_a03b_5cc5d4b2a605row1_col4\" class=\"data row1 col4\" >0.885714</td>\n",
       "                        <td id=\"T_3b6950fe_bb72_11ea_a03b_5cc5d4b2a605row1_col5\" class=\"data row1 col5\" >0.918968</td>\n",
       "            </tr>\n",
       "            <tr>\n",
       "                        <th id=\"T_3b6950fe_bb72_11ea_a03b_5cc5d4b2a605level0_row2\" class=\"row_heading level0 row2\" >2</th>\n",
       "                        <td id=\"T_3b6950fe_bb72_11ea_a03b_5cc5d4b2a605row2_col0\" class=\"data row2 col0\" >LR</td>\n",
       "                        <td id=\"T_3b6950fe_bb72_11ea_a03b_5cc5d4b2a605row2_col1\" class=\"data row2 col1\" >0.732824</td>\n",
       "                        <td id=\"T_3b6950fe_bb72_11ea_a03b_5cc5d4b2a605row2_col2\" class=\"data row2 col2\" >0.768</td>\n",
       "                        <td id=\"T_3b6950fe_bb72_11ea_a03b_5cc5d4b2a605row2_col3\" class=\"data row2 col3\" >0.75</td>\n",
       "                        <td id=\"T_3b6950fe_bb72_11ea_a03b_5cc5d4b2a605row2_col4\" class=\"data row2 col4\" >0.771429</td>\n",
       "                        <td id=\"T_3b6950fe_bb72_11ea_a03b_5cc5d4b2a605row2_col5\" class=\"data row2 col5\" >0.844903</td>\n",
       "            </tr>\n",
       "            <tr>\n",
       "                        <th id=\"T_3b6950fe_bb72_11ea_a03b_5cc5d4b2a605level0_row3\" class=\"row_heading level0 row3\" >3</th>\n",
       "                        <td id=\"T_3b6950fe_bb72_11ea_a03b_5cc5d4b2a605row3_col0\" class=\"data row3 col0\" >KNN</td>\n",
       "                        <td id=\"T_3b6950fe_bb72_11ea_a03b_5cc5d4b2a605row3_col1\" class=\"data row3 col1\" >0.875</td>\n",
       "                        <td id=\"T_3b6950fe_bb72_11ea_a03b_5cc5d4b2a605row3_col2\" class=\"data row3 col2\" >0.672</td>\n",
       "                        <td id=\"T_3b6950fe_bb72_11ea_a03b_5cc5d4b2a605row3_col3\" class=\"data row3 col3\" >0.760181</td>\n",
       "                        <td id=\"T_3b6950fe_bb72_11ea_a03b_5cc5d4b2a605row3_col4\" class=\"data row3 col4\" >0.810714</td>\n",
       "                        <td id=\"T_3b6950fe_bb72_11ea_a03b_5cc5d4b2a605row3_col5\" class=\"data row3 col5\" >0.840903</td>\n",
       "            </tr>\n",
       "            <tr>\n",
       "                        <th id=\"T_3b6950fe_bb72_11ea_a03b_5cc5d4b2a605level0_row4\" class=\"row_heading level0 row4\" >4</th>\n",
       "                        <td id=\"T_3b6950fe_bb72_11ea_a03b_5cc5d4b2a605row4_col0\" class=\"data row4 col0\" >Decision Tree</td>\n",
       "                        <td id=\"T_3b6950fe_bb72_11ea_a03b_5cc5d4b2a605row4_col1\" class=\"data row4 col1\" >0.732283</td>\n",
       "                        <td id=\"T_3b6950fe_bb72_11ea_a03b_5cc5d4b2a605row4_col2\" class=\"data row4 col2\" >0.744</td>\n",
       "                        <td id=\"T_3b6950fe_bb72_11ea_a03b_5cc5d4b2a605row4_col3\" class=\"data row4 col3\" >0.738095</td>\n",
       "                        <td id=\"T_3b6950fe_bb72_11ea_a03b_5cc5d4b2a605row4_col4\" class=\"data row4 col4\" >0.764286</td>\n",
       "                        <td id=\"T_3b6950fe_bb72_11ea_a03b_5cc5d4b2a605row4_col5\" class=\"data row4 col5\" >0.801419</td>\n",
       "            </tr>\n",
       "            <tr>\n",
       "                        <th id=\"T_3b6950fe_bb72_11ea_a03b_5cc5d4b2a605level0_row5\" class=\"row_heading level0 row5\" >5</th>\n",
       "                        <td id=\"T_3b6950fe_bb72_11ea_a03b_5cc5d4b2a605row5_col0\" class=\"data row5 col0\" >Bagging</td>\n",
       "                        <td id=\"T_3b6950fe_bb72_11ea_a03b_5cc5d4b2a605row5_col1\" class=\"data row5 col1\" >0.666667</td>\n",
       "                        <td id=\"T_3b6950fe_bb72_11ea_a03b_5cc5d4b2a605row5_col2\" class=\"data row5 col2\" >0.72</td>\n",
       "                        <td id=\"T_3b6950fe_bb72_11ea_a03b_5cc5d4b2a605row5_col3\" class=\"data row5 col3\" >0.692308</td>\n",
       "                        <td id=\"T_3b6950fe_bb72_11ea_a03b_5cc5d4b2a605row5_col4\" class=\"data row5 col4\" >0.714286</td>\n",
       "                        <td id=\"T_3b6950fe_bb72_11ea_a03b_5cc5d4b2a605row5_col5\" class=\"data row5 col5\" >0.8032</td>\n",
       "            </tr>\n",
       "            <tr>\n",
       "                        <th id=\"T_3b6950fe_bb72_11ea_a03b_5cc5d4b2a605level0_row6\" class=\"row_heading level0 row6\" >6</th>\n",
       "                        <td id=\"T_3b6950fe_bb72_11ea_a03b_5cc5d4b2a605row6_col0\" class=\"data row6 col0\" >RandomForest</td>\n",
       "                        <td id=\"T_3b6950fe_bb72_11ea_a03b_5cc5d4b2a605row6_col1\" class=\"data row6 col1\" >0.736842</td>\n",
       "                        <td id=\"T_3b6950fe_bb72_11ea_a03b_5cc5d4b2a605row6_col2\" class=\"data row6 col2\" >0.784</td>\n",
       "                        <td id=\"T_3b6950fe_bb72_11ea_a03b_5cc5d4b2a605row6_col3\" class=\"data row6 col3\" >0.75969</td>\n",
       "                        <td id=\"T_3b6950fe_bb72_11ea_a03b_5cc5d4b2a605row6_col4\" class=\"data row6 col4\" >0.778571</td>\n",
       "                        <td id=\"T_3b6950fe_bb72_11ea_a03b_5cc5d4b2a605row6_col5\" class=\"data row6 col5\" >0.86049</td>\n",
       "            </tr>\n",
       "            <tr>\n",
       "                        <th id=\"T_3b6950fe_bb72_11ea_a03b_5cc5d4b2a605level0_row7\" class=\"row_heading level0 row7\" >7</th>\n",
       "                        <td id=\"T_3b6950fe_bb72_11ea_a03b_5cc5d4b2a605row7_col0\" class=\"data row7 col0\" >ExtraTrees</td>\n",
       "                        <td id=\"T_3b6950fe_bb72_11ea_a03b_5cc5d4b2a605row7_col1\" class=\"data row7 col1\" >0.771186</td>\n",
       "                        <td id=\"T_3b6950fe_bb72_11ea_a03b_5cc5d4b2a605row7_col2\" class=\"data row7 col2\" >0.728</td>\n",
       "                        <td id=\"T_3b6950fe_bb72_11ea_a03b_5cc5d4b2a605row7_col3\" class=\"data row7 col3\" >0.748971</td>\n",
       "                        <td id=\"T_3b6950fe_bb72_11ea_a03b_5cc5d4b2a605row7_col4\" class=\"data row7 col4\" >0.782143</td>\n",
       "                        <td id=\"T_3b6950fe_bb72_11ea_a03b_5cc5d4b2a605row7_col5\" class=\"data row7 col5\" >0.855406</td>\n",
       "            </tr>\n",
       "            <tr>\n",
       "                        <th id=\"T_3b6950fe_bb72_11ea_a03b_5cc5d4b2a605level0_row8\" class=\"row_heading level0 row8\" >8</th>\n",
       "                        <td id=\"T_3b6950fe_bb72_11ea_a03b_5cc5d4b2a605row8_col0\" class=\"data row8 col0\" >AdaBoost</td>\n",
       "                        <td id=\"T_3b6950fe_bb72_11ea_a03b_5cc5d4b2a605row8_col1\" class=\"data row8 col1\" >0.830508</td>\n",
       "                        <td id=\"T_3b6950fe_bb72_11ea_a03b_5cc5d4b2a605row8_col2\" class=\"data row8 col2\" >0.784</td>\n",
       "                        <td id=\"T_3b6950fe_bb72_11ea_a03b_5cc5d4b2a605row8_col3\" class=\"data row8 col3\" >0.806584</td>\n",
       "                        <td id=\"T_3b6950fe_bb72_11ea_a03b_5cc5d4b2a605row8_col4\" class=\"data row8 col4\" >0.832143</td>\n",
       "                        <td id=\"T_3b6950fe_bb72_11ea_a03b_5cc5d4b2a605row8_col5\" class=\"data row8 col5\" >0.917781</td>\n",
       "            </tr>\n",
       "            <tr>\n",
       "                        <th id=\"T_3b6950fe_bb72_11ea_a03b_5cc5d4b2a605level0_row9\" class=\"row_heading level0 row9\" >9</th>\n",
       "                        <td id=\"T_3b6950fe_bb72_11ea_a03b_5cc5d4b2a605row9_col0\" class=\"data row9 col0\" >GradientBoosting</td>\n",
       "                        <td id=\"T_3b6950fe_bb72_11ea_a03b_5cc5d4b2a605row9_col1\" class=\"data row9 col1\" >0.84375</td>\n",
       "                        <td id=\"T_3b6950fe_bb72_11ea_a03b_5cc5d4b2a605row9_col2\" class=\"data row9 col2\" >0.864</td>\n",
       "                        <td id=\"T_3b6950fe_bb72_11ea_a03b_5cc5d4b2a605row9_col3\" class=\"data row9 col3\" >0.853755</td>\n",
       "                        <td id=\"T_3b6950fe_bb72_11ea_a03b_5cc5d4b2a605row9_col4\" class=\"data row9 col4\" >0.867857</td>\n",
       "                        <td id=\"T_3b6950fe_bb72_11ea_a03b_5cc5d4b2a605row9_col5\" class=\"data row9 col5\" >0.954529</td>\n",
       "            </tr>\n",
       "            <tr>\n",
       "                        <th id=\"T_3b6950fe_bb72_11ea_a03b_5cc5d4b2a605level0_row10\" class=\"row_heading level0 row10\" >10</th>\n",
       "                        <td id=\"T_3b6950fe_bb72_11ea_a03b_5cc5d4b2a605row10_col0\" class=\"data row10 col0\" >XGB</td>\n",
       "                        <td id=\"T_3b6950fe_bb72_11ea_a03b_5cc5d4b2a605row10_col1\" class=\"data row10 col1\" >0.881356</td>\n",
       "                        <td id=\"T_3b6950fe_bb72_11ea_a03b_5cc5d4b2a605row10_col2\" class=\"data row10 col2\" >0.832</td>\n",
       "                        <td id=\"T_3b6950fe_bb72_11ea_a03b_5cc5d4b2a605row10_col3\" class=\"data row10 col3\" >0.855967</td>\n",
       "                        <td id=\"T_3b6950fe_bb72_11ea_a03b_5cc5d4b2a605row10_col4\" class=\"data row10 col4\" >0.875</td>\n",
       "                        <td id=\"T_3b6950fe_bb72_11ea_a03b_5cc5d4b2a605row10_col5\" class=\"data row10 col5\" >0.945032</td>\n",
       "            </tr>\n",
       "            <tr>\n",
       "                        <th id=\"T_3b6950fe_bb72_11ea_a03b_5cc5d4b2a605level0_row11\" class=\"row_heading level0 row11\" >11</th>\n",
       "                        <td id=\"T_3b6950fe_bb72_11ea_a03b_5cc5d4b2a605row11_col0\" class=\"data row11 col0\" >XGB Rand</td>\n",
       "                        <td id=\"T_3b6950fe_bb72_11ea_a03b_5cc5d4b2a605row11_col1\" class=\"data row11 col1\" >0.930435</td>\n",
       "                        <td id=\"T_3b6950fe_bb72_11ea_a03b_5cc5d4b2a605row11_col2\" class=\"data row11 col2\" >0.856</td>\n",
       "                        <td id=\"T_3b6950fe_bb72_11ea_a03b_5cc5d4b2a605row11_col3\" class=\"data row11 col3\" >0.891667</td>\n",
       "                        <td id=\"T_3b6950fe_bb72_11ea_a03b_5cc5d4b2a605row11_col4\" class=\"data row11 col4\" >0.907143</td>\n",
       "                        <td id=\"T_3b6950fe_bb72_11ea_a03b_5cc5d4b2a605row11_col5\" class=\"data row11 col5\" >0.949884</td>\n",
       "            </tr>\n",
       "    </tbody></table>"
      ],
      "text/plain": [
       "<pandas.io.formats.style.Styler at 0x1a4fd788>"
      ]
     },
     "execution_count": 57,
     "metadata": {},
     "output_type": "execute_result"
    }
   ],
   "source": [
    "df.style.apply(\n",
    "    highlight_max,\n",
    "    subset=[\"precision_score\", \"recall_score\", \"f1_score\", \"accuracy_score\", \"roc_auc_score\"],\n",
    ")"
   ]
  },
  {
   "cell_type": "code",
   "execution_count": 58,
   "metadata": {},
   "outputs": [
    {
     "data": {
      "text/plain": [
       "<matplotlib.axes._subplots.AxesSubplot at 0x19580a08>"
      ]
     },
     "execution_count": 58,
     "metadata": {},
     "output_type": "execute_result"
    },
    {
     "data": {
      "image/png": "[encoded data removed]",
      "text/plain": [
       "<Figure size 1152x648 with 1 Axes>"
      ]
     },
     "metadata": {},
     "output_type": "display_data"
    }
   ],
   "source": [
    "df.plot(x=\"Method\", kind=\"barh\", cmap=\"Accent\", figsize=(16, 9))"
   ]
  },
  {
   "cell_type": "markdown",
   "metadata": {},
   "source": [
    "### Wykres krzywej ROC dla wyznaczonych klasyfikatorów"
   ]
  },
  {
   "cell_type": "markdown",
   "metadata": {},
   "source": [
    "\n",
    "<img src='https://mathspace.pl/wp-content/uploads/2016/09/ROC-interp.png' style=\"width:400px;height:400px\"/>\n",
    "<img src='https://mathspace.pl/wp-content/uploads/2016/09/ROC-interpr-AUROC.png' style=\"width:400px;height:400px\"/>\n"
   ]
  },
  {
   "cell_type": "markdown",
   "metadata": {},
   "source": [
    "Im wykres bardziej ”wypukły”, tym lepszy klasyfikator, co widac na pierwszym z wykresów. Pole powierzchni pod wykresem krzywej ROC – AUC (ang. Area Under Curve), przyjmujące wartości w przedziale od 0 do 1, określa zdolność testu do rozgraniczenia wyników prawidłowych i nieprawidłowych. Im większe jest AUC (im bardziej wklęsła będzie funkcja ROC) tym większa jest moc diagnostyczna testu. Tym samym zdolność rozdzielcza testu jest lepsza."
   ]
  },
  {
   "cell_type": "markdown",
   "metadata": {},
   "source": [
    "Krzywa ROC jest graficzną reprezentacją efektywności modelu predykcyjnego poprzez wykreślenie charakterystyki jakościowej klasyfikatorów binarnych powstałych z modelu przy zastosowaniu wielu różnych punktów odcięcia. Mówiąc inaczej – każdy punkt krzywej ROC odpowiada innej macierzy błędu uzyskanej przez modyfikowanie „cut-off point”. Finalnie na wykres nanosimy TPR (True-Positive Rate – oś pionowa) oraz FPR (False-Positive Rate – oś pozioma)."
   ]
  },
  {
   "cell_type": "markdown",
   "metadata": {},
   "source": [
    "![zdjęcie](http://algolytics.com/wp-content/uploads/2018/05/roc1.png)\n"
   ]
  },
  {
   "cell_type": "code",
   "execution_count": 59,
   "metadata": {},
   "outputs": [
    {
     "data": {
      "text/plain": [
       "<matplotlib.legend.Legend at 0x1058bc88>"
      ]
     },
     "execution_count": 59,
     "metadata": {},
     "output_type": "execute_result"
    },
    {
     "data": {
      "image/png": "[encoded data removed]",
      "text/plain": [
       "<Figure size 576x432 with 1 Axes>"
      ]
     },
     "metadata": {},
     "output_type": "display_data"
    }
   ],
   "source": [
    "from sklearn.metrics import roc_auc_score\n",
    "from sklearn.metrics import roc_curve\n",
    "\n",
    "def plot_roc_curve(fpr, tpr, label=None):\n",
    "    plt.plot(fpr, tpr, linewidth=2, label=label)\n",
    "    plt.plot([0, 1], [0, 1], 'k--')\n",
    "    plt.axis([-0.1, 1.1, -0.1, 1.1])\n",
    "    plt.xlabel('False Positive Rate', fontsize=16)\n",
    "    plt.ylabel('True Positive Rate', fontsize=16)\n",
    "\n",
    "\n",
    "plt.figure(figsize=(8, 6))\n",
    "for i, (grid, name) in enumerate(zip(grids, model_names)):\n",
    "    if i < 3:\n",
    "        fpr_clf, tpr_clf, thresholds_clf = roc_curve(y_test, grid.decision_function(X_test))\n",
    "    else:\n",
    "        fpr_clf, tpr_clf, thresholds_cls = roc_curve(y_test, grid.predict_proba(X_test)[:,1])\n",
    "    plot_roc_curve(fpr_clf, tpr_clf, name)\n",
    "                                 \n",
    "plt.legend(loc=\"lower left\", fontsize=16, bbox_to_anchor=(1.1, 0))"
   ]
  },
  {
   "cell_type": "markdown",
   "metadata": {},
   "source": [
    "Najlepszą wartość metryki AUC dla krzywej ROC przyjął klasyfikator GradientBoosting, bardzo zbliżone wyniki przyjęły metody SVM RB, XGB oraz XGB Rand. Wykresy tych krzywych sa najbardziej wypukłe co widać wyraźne na powyższym wykresie, stanowia one grupę klasyfikatorów lepszych od reszty.\n",
    "\n",
    "Najlepsze wyniki wskaźnika accuracy wystąpiły dla klasyfikatora XGB Rand, kolejno GradientBoosting i SVM rbf. \n",
    "Wskaźnik F1 najlepszy wynik osiągnął dla klasyfikatora XGB Rand.\n",
    "\n",
    "XGB Rand osiągnął najlepsze wyniki w kilku pozycjach: precision score, f1 score, accuracy score. "
   ]
  }
 ],
 "metadata": {
  "kernelspec": {
   "display_name": "Python 3",
   "language": "python",
   "name": "python3"
  },
  "language_info": {
   "codemirror_mode": {
    "name": "ipython",
    "version": 3
   },
   "file_extension": ".py",
   "mimetype": "text/x-python",
   "name": "python",
   "nbconvert_exporter": "python",
   "pygments_lexer": "ipython3",
   "version": "3.7.4"
  }
 },
 "nbformat": 4,
 "nbformat_minor": 2
}
